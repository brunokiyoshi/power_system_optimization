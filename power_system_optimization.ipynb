{
 "cells": [
  {
   "cell_type": "markdown",
   "metadata": {},
   "source": [
    "# Optimization of a power system\n",
    "Student: Bruno Kiyoshi Ynumaru; Prof. Eduardo Camponogara"
   ]
  },
  {
   "cell_type": "markdown",
   "metadata": {},
   "source": [
    "In this exercise, you will have the opportunity to approximate a nonlinear problem\n",
    "as a MILP by means of piecewise-linear models. The power system has 3 buses\n",
    "as depicted in Fig. 1. Buses 1 and 3 have generation units, whereas bus 2 is a\n",
    "power consumer. This Figures also gives the maximum power generation ($\\bar{P_{gi}}$) and\n",
    "the power consumption ($\\bar{P_{di}}$) of each bus i, under low and high demand. The\n",
    "properties of the transmission lines appear in Table 1, in pu using a 100 MVA basis,\n",
    "are indicated in the Figure. The parameters are the resistance $r_{i,j}$ , the reactance $x_{i,j}$\n",
    "and the number of lines installed between buses i and j."
   ]
  },
  {
   "cell_type": "markdown",
   "metadata": {},
   "source": [
    "\n",
    "<img src=\"Figure1.jpg\" alt=\"Drawing\" style=\"width: 400px; margin-left:auto; margin-right:auto\"/>"
   ]
  },
  {
   "cell_type": "markdown",
   "metadata": {},
   "source": [
    "|Line| $r_{i,j}$ (pu)| $x_{i,j}$ (pu)| ni,j|\n",
    "|----|---------------|---------------|----------|\n",
    "|1-2 | 0.030         |0.23           |2         |\n",
    "|1-3 |0.035          | 0.25          |1         |\n",
    "|2-3 | 0.025         | 0.20          |1         |"
   ]
  },
  {
   "cell_type": "markdown",
   "metadata": {},
   "source": [
    "A simplified model is adopted for the transmission network, in which:  \n",
    "•Lines and transformers are represented by their series impedances in per unit:  \n",
    "\\begin{equation}\n",
    "z_{i,j} = r_{i,j} + jx_{i,j} \\space \\space (1)\n",
    "\\end{equation}\n",
    "where ri;j is the resistance and xi;j is the reactance of line (i; j).  \n",
    "• Voltage magnitudes are fixed at 1:0 pu.  \n",
    "• Reactive power balance is supposed to be satisfied.  \n",
    "With these assumptions, active power flows are expressed as  \n",
    "\\begin{equation}\n",
    "p.flow \\space i \\rightarrow j : P_{i,j} = g_{i,j}-(g_{i,j} cos\\theta_{i,j} + b_{i,j} sin \\theta_{i,j}) \\space (2a)\\\\\n",
    "p.flow \\space j \\rightarrow i : P_{j,i} = g_{i,j}-(g_{i,j} cos\\theta_{i,j} - b_{i,j} sin \\theta_{i,j}) \\space (2b) \n",
    "\\end{equation}  \n",
    "where $gij$ and $b_{ij}$ are, respectively, the series conductance and series susceptance of\n",
    "line (i, j), $\\theta_{i,j} = (\\theta_i - \\theta_j)$ and $\\theta_i$ is the voltage angle of bus i.  \n",
    "Conductance and susceptance are calculated as follows  \n",
    "\\begin{equation}\n",
    "g_{i,j}=\\frac{r_{i,j}}{(r^2_{i,j}+x^2_{i,j})}\\\\\n",
    "b_{i,j}=-\\frac{x_{i,j}}{(r^2_{i,j}+x^2_{i,j})}\n",
    "\\end{equation}  \n",
    "The power injected into bus i is defined as  \n",
    "\\begin{equation}\n",
    "P_i=\\sum_{j \\in N_i} n_{i,j}P_{i,j} = \\sum_{j \\in N_i}n_{i,j}[g_{i,j}-(g_{i,j}cos\\theta_{i,j}+b_{i,j}sin\\theta_{i,j}])] \\space (3)\n",
    "\\end{equation}  \n",
    "where $N_i$ is the set of neighboring buses of bus i. To ensure energy conservation, the\n",
    "following equations must also be satisfied  \n",
    "\\begin{equation}\n",
    "Pg_i=\\bar{Pd_i}+P_i \\space (4)\n",
    "\\end{equation}  \n",
    "Aiming to minimize the power loss in transmission, the power-flow optimization problem could be solved:  \n",
    "\n",
    "\\begin{equation}\n",
    "min \\sum_{i \\in N} |P_i| \\\\\n",
    "s.t: Pg_i=\\bar{Pd_i}+P_i, \\\\\n",
    "P_i=\\sum_{j \\in N_i} n_{i,j}P_{i,j}, \\\\\n",
    "0 \\le Pg_i \\le \\bar{Pg_i}, \\\\\n",
    "\\theta_i \\in [\\frac{-\\pi}{2},\\frac{\\pi}{2}, i \\in N],  \\\\\n",
    "P_{i,j} = g_{i,j}-(g_{i,j} cos\\theta_{i,j} + b_{i,j} sin \\theta_{i,j}),\\\\\n",
    "\\theta_{i,j}=\\theta_i-\\theta_j, \\\\\n",
    "\\theta_{i,j} \\in [-\\pi,\\pi], i \\in N, j \\in N_i\n",
    "\\end{equation}\n",
    "\n",
    "Tasks:  \n",
    "• Reformulate the power-flow optimization problem in MILP using the following piecewise-linear models: CC and SOS2.  \n",
    "• Implement the models in AMPL, choosing a suitable number of breakpoints to induce a good approximation of the power-flow equations. You may plot the piecewise linear approximations for sin $\\theta_{i,j}$ and cos $\\theta_{i,j}$ in order to show the degree of approximation.  \n",
    "• Solve the problem for the low and high power demand cases. Present and illustrate the solutions.  "
   ]
  },
  {
   "cell_type": "markdown",
   "metadata": {},
   "source": [
    "## Optimization problem solution using Gurobi"
   ]
  },
  {
   "cell_type": "code",
   "execution_count": 1,
   "metadata": {},
   "outputs": [],
   "source": [
    "import gurobipy as gp\n",
    "from gurobipy import GRB, Model\n",
    "import pandas as pd\n",
    "import matplotlib.pyplot as plt\n",
    "import numpy as np\n",
    "import math\n",
    "from itertools import combinations\n",
    "pd.set_option(\"display.max_columns\", None)\n",
    "pd.set_option('display.max_rows', None)"
   ]
  },
  {
   "cell_type": "markdown",
   "metadata": {
    "tags": []
   },
   "source": [
    "## Generate data points"
   ]
  },
  {
   "cell_type": "code",
   "execution_count": 2,
   "metadata": {
    "tags": []
   },
   "outputs": [
    {
     "data": {
      "image/png": "[encoded data removed]",
      "text/plain": [
       "<Figure size 432x288 with 1 Axes>"
      ]
     },
     "metadata": {
      "needs_background": "light"
     },
     "output_type": "display_data"
    }
   ],
   "source": [
    "n_points = 15\n",
    "theta_array = np.linspace(-math.pi,math.pi, n_points)\n",
    "cos_array = np.cos(theta_array)\n",
    "sin_array = np.sin(theta_array)\n",
    "plt.figure()\n",
    "plt.scatter(theta_array,cos_array)\n",
    "plt.scatter(theta_array,sin_array)\n",
    "plt.plot(theta_array,cos_array,label=\"f(x)=cos(x)\")\n",
    "plt.plot(theta_array,sin_array,label=\"f(x)=sin(x)\")\n",
    "plt.title(\"sin and cos functions\")\n",
    "plt.xlabel(r'$\\theta$')\n",
    "plt.ylabel(r'$f(\\theta)$')\n",
    "plt.legend()\n",
    "plt.grid(which=\"both\")\n",
    "plt.show()"
   ]
  },
  {
   "cell_type": "code",
   "execution_count": 3,
   "metadata": {
    "tags": []
   },
   "outputs": [
    {
     "name": "stdout",
     "output_type": "stream",
     "text": [
      "[1, 2, 3]\n"
     ]
    }
   ],
   "source": [
    "n_busses = 3\n",
    "bus_set = [i for i in range(1,n_busses + 1)]\n",
    "print(bus_set)"
   ]
  },
  {
   "cell_type": "code",
   "execution_count": 4,
   "metadata": {
    "tags": []
   },
   "outputs": [
    {
     "name": "stdout",
     "output_type": "stream",
     "text": [
      "Pd_dict_high={1: 1.0, 2: 3.5, 3: 5.0}\n",
      "Pd_dict_low={1: 1.0, 2: 2.0, 3: 3.0}\n",
      "Pgmax_dict={1: 7.0, 2: 0.0, 3: 4.0}\n"
     ]
    }
   ],
   "source": [
    "# Create dictionaries containing the data provided in problem statement\n",
    "Pd_dict_high = {bus_set[0]:1.0,bus_set[1]:3.5,bus_set[2]:5.0} # Power demand - high\n",
    "Pd_dict_low = {bus_set[0]:1.0,bus_set[1]:2.0,bus_set[2]:3.0} # Power demand - low\n",
    "Pgmax_dict = {bus_set[0]:7.0,bus_set[1]:0.0,bus_set[2]:4.0} # Max power generation\n",
    "print(f'Pd_dict_high={Pd_dict_high}')\n",
    "print(f'Pd_dict_low={Pd_dict_low}')\n",
    "print(f'Pgmax_dict={Pgmax_dict}')"
   ]
  },
  {
   "cell_type": "code",
   "execution_count": 5,
   "metadata": {
    "tags": []
   },
   "outputs": [
    {
     "name": "stdout",
     "output_type": "stream",
     "text": [
      "bus pairs:[(1, 2), (1, 3), (2, 3)]\n"
     ]
    }
   ],
   "source": [
    "b_combs = combinations(bus_set,2) # connections between busses\n",
    "b_combs = list(b_combs)\n",
    "print(f\"bus pairs:{b_combs}\")"
   ]
  },
  {
   "cell_type": "code",
   "execution_count": 6,
   "metadata": {
    "tags": []
   },
   "outputs": [
    {
     "name": "stdout",
     "output_type": "stream",
     "text": [
      "r_dict={(1, 2): 0.03, (1, 3): 0.035, (2, 3): 0.025}\n",
      "x_dict={(1, 2): 0.23, (1, 3): 0.25, (2, 3): 0.2}\n",
      "n_dict={(1, 2): 2, (1, 3): 1, (2, 3): 1}\n",
      "z_dict={(1, 2): (0.03+0.23j), (1, 3): (0.035+0.25j), (2, 3): (0.025+0.2j)}\n"
     ]
    }
   ],
   "source": [
    "# More data from problem statement\n",
    "r_dict = {b_combs[0]:0.030, b_combs[1]:0.035, b_combs[2]:0.025}\n",
    "x_dict = {b_combs[0]:0.23, b_combs[1]:0.25, b_combs[2]:0.20}\n",
    "n_dict = {b_combs[0]:2, b_combs[1]:1, b_combs[2]:1}\n",
    "print(f'r_dict={r_dict}')\n",
    "print(f'x_dict={x_dict}')\n",
    "print(f'n_dict={n_dict}')\n",
    "\n",
    "# Calculate z values and assign values to a dict:\n",
    "z = lambda r,x : r + x*1j \n",
    "z_dict = {pair:z(r_dict[pair], x_dict[pair]) for pair in b_combs}\n",
    "print(f'z_dict={z_dict}')"
   ]
  },
  {
   "cell_type": "code",
   "execution_count": 7,
   "metadata": {
    "tags": []
   },
   "outputs": [
    {
     "name": "stdout",
     "output_type": "stream",
     "text": [
      "g_dict={(1, 2): 0.5576208178438662, (1, 3): 0.5492349941153394, (2, 3): 0.6153846153846153}\n",
      "b_dict={(1, 2): -4.275092936802974, (1, 3): -3.9231071008238523, (2, 3): -4.9230769230769225}\n"
     ]
    }
   ],
   "source": [
    "# Calculate g and b values and assign to dict:\n",
    "g = lambda r,x: r / (r**2+x**2)\n",
    "b = lambda r,x: -x / (r**2+x**2)\n",
    "\n",
    "g_dict = {pair:g(r_dict[pair], x_dict[pair]) for pair in b_combs}\n",
    "b_dict = {pair:b(r_dict[pair], x_dict[pair]) for pair in b_combs}\n",
    "print(f'g_dict={g_dict}')\n",
    "print(f'b_dict={b_dict}')"
   ]
  },
  {
   "cell_type": "code",
   "execution_count": 8,
   "metadata": {
    "scrolled": true,
    "tags": []
   },
   "outputs": [
    {
     "name": "stdout",
     "output_type": "stream",
     "text": [
      "Pf_dict={(1, 2): array([ 0.06      ,  0.15682233,  0.22852594,  0.26090905,  0.24755779,\n",
      "        0.19111655,  0.10276419,  0.        , -0.09682233, -0.16852594,\n",
      "       -0.20090905, -0.18755779, -0.13111655, -0.04276419,  0.06      ]), (1, 3): array([ 0.07      ,  0.17500485,  0.25228001,  0.28652021,  0.27094375,\n",
      "        0.20863573,  0.11193702,  0.        , -0.10500485, -0.18228001,\n",
      "       -0.21652021, -0.20094375, -0.13863573, -0.04193702,  0.07      ]), (2, 3): array([ 0.05      ,  0.13430097,  0.19695354,  0.22554861,  0.21442256,\n",
      "        0.16577905,  0.08925253,  0.        , -0.08430097, -0.14695354,\n",
      "       -0.17554861, -0.16442256, -0.11577905, -0.03925253,  0.05      ])}\n",
      "Pb_dict={(1, 2): array([ 0.06      , -0.04276419, -0.13111655, -0.18755779, -0.20090905,\n",
      "       -0.16852594, -0.09682233,  0.        ,  0.10276419,  0.19111655,\n",
      "        0.24755779,  0.26090905,  0.22852594,  0.15682233,  0.06      ]), (1, 3): array([ 0.07      , -0.04193702, -0.13863573, -0.20094375, -0.21652021,\n",
      "       -0.18228001, -0.10500485,  0.        ,  0.11193702,  0.20863573,\n",
      "        0.27094375,  0.28652021,  0.25228001,  0.17500485,  0.07      ]), (2, 3): array([ 0.05      , -0.03925253, -0.11577905, -0.16442256, -0.17554861,\n",
      "       -0.14695354, -0.08430097,  0.        ,  0.08925253,  0.16577905,\n",
      "        0.21442256,  0.22554861,  0.19695354,  0.13430097,  0.05      ])}\n"
     ]
    }
   ],
   "source": [
    "# power flow (P) has different values for forwards (f-Pij) and backwards (b-Pji) directions:\n",
    "Pf = lambda g,b,theta: (g - (g*np.cos(theta) + b*np.sin(theta))) # Pij\n",
    "Pb = lambda g,b,theta: (g - (g*np.cos(theta) - b*np.sin(theta))) # Pji\n",
    "\n",
    "Pf_dict = {pair:Pf(r_dict[pair], x_dict[pair], theta_array) for pair in b_combs}\n",
    "print(f'Pf_dict={Pf_dict}')\n",
    "Pb_dict = {pair:Pb(r_dict[pair], x_dict[pair], theta_array) for pair in b_combs}\n",
    "print(f'Pb_dict={Pb_dict}')"
   ]
  },
  {
   "cell_type": "code",
   "execution_count": 9,
   "metadata": {
    "scrolled": true,
    "tags": []
   },
   "outputs": [
    {
     "data": {
      "image/png": "[encoded data removed]",
      "text/plain": [
       "<Figure size 432x288 with 1 Axes>"
      ]
     },
     "metadata": {
      "needs_background": "light"
     },
     "output_type": "display_data"
    },
    {
     "data": {
      "image/png": "[encoded data removed]",
      "text/plain": [
       "<Figure size 432x288 with 1 Axes>"
      ]
     },
     "metadata": {
      "needs_background": "light"
     },
     "output_type": "display_data"
    },
    {
     "data": {
      "image/png": "[encoded data removed]",
      "text/plain": [
       "<Figure size 432x288 with 1 Axes>"
      ]
     },
     "metadata": {
      "needs_background": "light"
     },
     "output_type": "display_data"
    }
   ],
   "source": [
    "for k, bc in enumerate(b_combs):\n",
    "    \n",
    "    plt.figure()\n",
    "    plt.scatter(theta_array,Pf_dict[bc])\n",
    "    plt.scatter(theta_array,Pb_dict[bc])\n",
    "    plt.plot(theta_array,Pf_dict[bc],label=\"f(x)=Pf(x)\")\n",
    "    plt.plot(theta_array,Pb_dict[bc],label=\"f(x)=Pb(x)\")\n",
    "    plt.title(f\"Power flows between busses {bc}\")\n",
    "    plt.xlabel(fr'$\\theta{bc}$')\n",
    "    plt.ylabel(fr'$f(\\theta{bc})$ (pu)')\n",
    "    plt.legend()\n",
    "    plt.grid(which=\"both\")\n",
    "    plt.show()"
   ]
  },
  {
   "cell_type": "markdown",
   "metadata": {
    "tags": []
   },
   "source": [
    "## Piecewise linear reformulations and solving\n"
   ]
  },
  {
   "cell_type": "markdown",
   "metadata": {},
   "source": [
    "\n",
    "### Convex-combination - CC\n",
    "\n",
    "In convex combination approximations, the dependent variable is given by a linear combination of two consecutive points from the available data:\n",
    "For a given pair of buses $(i,j)$, the CC piecewise linear reformulation is:\n",
    "\\begin{equation} \n",
    " (i,j) \\in \\{1 ,\\dots, N\\}^2, i \\neq j \\\\\n",
    " Givens^{(i,j)}: \\{(\\theta^{(i,j)}_{k=0}, P^{(i,j)}_{k=0}),\\dots, (\\theta^{(i,j)}_{(M-1)}, P^{(i,j)}_{(M-1)})\\} \\\\\n",
    " \\theta^{(i,j)} = \\sum_{k=0}^{M - 1} \\lambda_k^{(i,j)}\\theta_{k}^{(i,j)} \\\\\n",
    " P^{(i,j)} = \\sum_{k=0}^{M - 1} \\lambda_k^{(i,j)}P_{k}^{(i,j)} \\\\\n",
    " \\lambda_k^{(i,j)} \\ge 1, k = 0,...,{(M - 1)} \\\\\n",
    " 1 = \\sum^{M - 1}_{k=0} \\lambda_k^{(i,j)} \\\\\n",
    " 1 = \\sum^{M - 1}_{k=1}z_k^{(i,j)} \\\\\n",
    " z^{(i,j)}_k \\in \\{0,1\\}, k=1,...,{(M-1)} \\\\\n",
    " \\lambda_0^n \\le z_1^{(i,j)} \\\\\n",
    " \\lambda_{(M-1)}^{(i,j)} \\le z_{(M-1)}^{(i,j)} \\\\\n",
    " \\lambda_k^{(i,j)} \\le z_k^{(i,j)} + z_{k+1}, k=1,...,{(M-1)} \\\\\n",
    " z_k^{(i,j)} = 1\\; \\text{if} \\;P^{(i,j)} \\in [ P_{k-1}^{(i,j)}, P_{k}^{(i,j)} ]\n",
    "\\end{equation}\n",
    "Where $M$ is the number of available data points for bus pair $(i,j)$ and $N$ is the number of buses in the system.\n"
   ]
  },
  {
   "cell_type": "markdown",
   "metadata": {},
   "source": [
    "### Convex Combination in Gurobi"
   ]
  },
  {
   "cell_type": "code",
   "execution_count": 10,
   "metadata": {
    "scrolled": true,
    "tags": []
   },
   "outputs": [
    {
     "name": "stdout",
     "output_type": "stream",
     "text": [
      "Set parameter Username\n",
      "Academic license - for non-commercial use only - expires 2022-05-20\n",
      "Set parameter LogFile to value \"cc_log.txt\"\n",
      "[('Pg1', 7.0), ('Pg2', 0.0), ('Pg3', 4.0)]\n",
      "Power inflow at bus 1:\n",
      "<gurobi.LinExpr: 2.0 Pb(1, 2) + Pb(1, 3)>\n",
      "<gurobi.Constr R63>\n",
      "Power inflow at bus 2:\n",
      "<gurobi.LinExpr: 2.0 Pf(1, 2) + Pb(2, 3)>\n",
      "<gurobi.Constr R65>\n",
      "Power inflow at bus 3:\n",
      "<gurobi.LinExpr: Pf(1, 3) + Pf(2, 3)>\n",
      "<gurobi.Constr R67>\n"
     ]
    }
   ],
   "source": [
    "cc = Model()\n",
    "cc.Params.LogFile = \"cc_log.txt\"\n",
    "# each bus i is in a certain theta\n",
    "thetai_vars = cc.addVars(bus_set, lb=-math.pi/2, ub=math.pi/2, vtype=GRB.CONTINUOUS, name=\"thetai\")\n",
    "\n",
    "# power generated in each bus i, constrained by values given in problem statement\n",
    "Pgi_vars = cc.addVars(bus_set, lb=0,ub=Pgmax_dict,vtype=GRB.CONTINUOUS, name=\"Pgi\")\n",
    "cc.update()\n",
    "print([(f\"Pg{Pgi}\",Pgi_vars[Pgi].ub) for Pgi in Pgi_vars])\n",
    "# Pgi_vars = cc.addVars(bus_set, lb=0,vtype=GRB.CONTINUOUS, name=\"Pgi\") # This would be a relaxation\n",
    "\n",
    "# total power flow into each bus i\n",
    "Pi_vars = cc.addVars(bus_set, vtype=GRB.CONTINUOUS, name=\"Pi\")\n",
    "\n",
    "# auxiliary variables which represents each |Pi|\n",
    "Pi_abs_vars = cc.addVars(bus_set, vtype=GRB.CONTINUOUS, name=\"Pi_abs\") \n",
    "\n",
    "lambda_vars = gp.tupledict() # 1 value per data interval per pair ((n_points-1) * len(b_combs))\n",
    "z_vars = gp.tupledict() # 1 value per data point per pair (n_points * len(b_combs))\n",
    "lag_vars = gp.tupledict() # 1 value per pair (len(b_combs))\n",
    "Pf_vars = gp.tupledict() # 1 value per pair (len(b_combs))\n",
    "Pb_vars = gp.tupledict() # 1 value per pair (len(b_combs))\n",
    "\n",
    "data_indexes = range(n_points)\n",
    "\n",
    "for pair in b_combs:\n",
    "    # create lambdas for current pair\n",
    "    lambda_vars_ = cc.addVars(data_indexes, lb=0.0, vtype=GRB.CONTINUOUS, name=f\"lambdas{pair}\")\n",
    "    cc.addConstr(gp.quicksum(lambda_vars_)==1)\n",
    "    lambda_vars[pair] = lambda_vars_\n",
    "    \n",
    "    # z variables indicate in which piece of the piecewise linear function the decision variable is\n",
    "    # create z variables for current pair\n",
    "    z_vars_ = cc.addVars(data_indexes[1:], vtype=GRB.BINARY, name=f\"z{pair}\") # note that first index is removed\n",
    "    cc.addConstr(gp.quicksum(z_vars_)==1)\n",
    "    z_vars[pair] = z_vars_\n",
    "    \n",
    "    cc.addConstr(lambda_vars_[0]<=z_vars_[1]) # ensure first lambda =0 if decision variable outside of first piece\n",
    "    cc.addConstr(lambda_vars_[n_points-1]<=z_vars_[n_points-1]) # ensure last lambda =0 if decision variable outside of last piece\n",
    "    \n",
    "    for i in range(1,n_points-1):\n",
    "        cc.addConstr(lambda_vars_[i]<=z_vars_[i]+z_vars_[i+1]) # ensure lambda=0 if decision variable not in any of the neighboring pieces\n",
    "    \n",
    "    # create lag variable for current pair\n",
    "    lag_var = cc.addVar(vtype=GRB.CONTINUOUS, name=f\"lag{pair}\")\n",
    "    cc.addConstr(lag_var==(gp.quicksum([lambda_vars_[i]*theta_array[i] for i in data_indexes])), name=f\"lag{pair} calculation\")\n",
    "    lag_vars[pair] = lag_var\n",
    "    \n",
    "    # create power flow variable for current pair\n",
    "    Pf_data = Pf_dict[pair] # power flows calculated before for current pair (Pij)\n",
    "    Pf_var = cc.addVar(vtype=GRB.CONTINUOUS, name=f\"Pf{pair}\") # Power flow variable for current pair\n",
    "    cc.addConstr(Pf_var==(gp.quicksum([lambda_vars_[i]*Pf_data[i] for i in data_indexes])), name=f\"Pf{pair} calculation\")\n",
    "    Pf_vars[pair] = Pf_var\n",
    "    \n",
    "    # create power flow variable for current pair, reverse \n",
    "    Pb_data = Pb_dict[pair] # power flows calculated before for current pair (Pij)\n",
    "    Pb_var = cc.addVar(vtype=GRB.CONTINUOUS, name=f\"Pb{pair}\") # Power flow variable for current pair\n",
    "    cc.addConstr(Pb_var==(gp.quicksum([lambda_vars_[i]*Pb_data[i] for i in data_indexes])), name=f\"Pb{pair} calculation\")\n",
    "    Pb_vars[pair] = Pb_var\n",
    "    \n",
    "    # not quite necessary, but create theta for each individual bus\n",
    "    i = pair[0]\n",
    "    j = pair[1]\n",
    "    cc.addConstr(lag_var==thetai_vars[i]-thetai_vars[j], name=f\"thetas_i=({pair})\")\n",
    "cc.update()\n",
    "for bus in bus_set:\n",
    "    # energy conservation constraint\n",
    "    # calculate power inflow at each bus\n",
    "    print(f\"Power inflow at bus {bus}:\")\n",
    "    Pi_value = 0\n",
    "    for pair in b_combs:\n",
    "        if bus == pair[0]: # bus is i in pair (i,j), power inflow at i is Pb\n",
    "            inflow = Pb_vars[pair]\n",
    "        elif bus == pair[1]: # bus is j in pair (i,j), power inflow at i is Pf\n",
    "            inflow = Pf_vars[pair]\n",
    "        else:\n",
    "            inflow = 0\n",
    "        Pi_value += n_dict[pair] * inflow\n",
    "        \n",
    "    print(Pi_value)\n",
    "    \n",
    "    Pi_injected_constr = cc.addConstr(Pi_vars[bus]==Pi_value)\n",
    "    \n",
    "    # en_cons_constr = cc.addConstr(Pgi_vars[bus]==Pd_dict_low[bus]+Pi_vars[bus], f\"Energy balance {bus}\")\n",
    "    en_cons_constr = cc.addConstr(Pgi_vars[bus]==Pd_dict_high[bus]+Pi_vars[bus], f\"Energy balance {bus}\")\n",
    "\n",
    "    abs_constr = cc.addGenConstrAbs(Pi_abs_vars[bus], Pi_vars[bus], name=\"ABS\")\n",
    "    \n",
    "    cc.update()\n",
    "    print(Pi_injected_constr)\n",
    "\n",
    "    \n",
    "cc.setObjective(gp.quicksum(Pi_abs_vars))\n",
    "cc.update()\n",
    "\n",
    "# cc.display()\n"
   ]
  },
  {
   "cell_type": "code",
   "execution_count": 11,
   "metadata": {
    "scrolled": true,
    "tags": []
   },
   "outputs": [
    {
     "name": "stdout",
     "output_type": "stream",
     "text": [
      "Gurobi Optimizer version 9.5.1 build v9.5.1rc2 (win64)\n",
      "Thread count: 2 physical cores, 4 logical processors, using up to 4 threads\n",
      "Optimize a model with 69 rows, 108 columns and 375 nonzeros\n",
      "Model fingerprint: 0xd6415f2b\n",
      "Model has 3 general constraints\n",
      "Variable types: 66 continuous, 42 integer (42 binary)\n",
      "Coefficient statistics:\n",
      "  Matrix range     [4e-02, 3e+00]\n",
      "  Objective range  [1e+00, 1e+00]\n",
      "  Bounds range     [1e+00, 7e+00]\n",
      "  RHS range        [1e+00, 5e+00]\n",
      "Presolve removed 0 rows and 3 columns\n",
      "Presolve time: 0.00s\n",
      "\n",
      "Explored 0 nodes (0 simplex iterations) in 0.02 seconds (0.00 work units)\n",
      "Thread count was 1 (of 4 available processors)\n",
      "\n",
      "Solution count 0\n",
      "\n",
      "Model is infeasible\n",
      "Best objective -, best bound -, gap -\n"
     ]
    }
   ],
   "source": [
    "cc.optimize()"
   ]
  },
  {
   "cell_type": "code",
   "execution_count": 12,
   "metadata": {
    "scrolled": true,
    "tags": []
   },
   "outputs": [
    {
     "data": {
      "text/plain": [
       "[<gurobi.Var thetai[1]>,\n",
       " <gurobi.Var thetai[2]>,\n",
       " <gurobi.Var thetai[3]>,\n",
       " <gurobi.Var Pgi[1]>,\n",
       " <gurobi.Var Pgi[2]>,\n",
       " <gurobi.Var Pgi[3]>,\n",
       " <gurobi.Var Pi[1]>,\n",
       " <gurobi.Var Pi[2]>,\n",
       " <gurobi.Var Pi[3]>,\n",
       " <gurobi.Var Pi_abs[1]>,\n",
       " <gurobi.Var Pi_abs[2]>,\n",
       " <gurobi.Var Pi_abs[3]>,\n",
       " <gurobi.Var lambdas(1, 2)[0]>,\n",
       " <gurobi.Var lambdas(1, 2)[1]>,\n",
       " <gurobi.Var lambdas(1, 2)[2]>,\n",
       " <gurobi.Var lambdas(1, 2)[3]>,\n",
       " <gurobi.Var lambdas(1, 2)[4]>,\n",
       " <gurobi.Var lambdas(1, 2)[5]>,\n",
       " <gurobi.Var lambdas(1, 2)[6]>,\n",
       " <gurobi.Var lambdas(1, 2)[7]>,\n",
       " <gurobi.Var lambdas(1, 2)[8]>,\n",
       " <gurobi.Var lambdas(1, 2)[9]>,\n",
       " <gurobi.Var lambdas(1, 2)[10]>,\n",
       " <gurobi.Var lambdas(1, 2)[11]>,\n",
       " <gurobi.Var lambdas(1, 2)[12]>,\n",
       " <gurobi.Var lambdas(1, 2)[13]>,\n",
       " <gurobi.Var lambdas(1, 2)[14]>,\n",
       " <gurobi.Var z(1, 2)[1]>,\n",
       " <gurobi.Var z(1, 2)[2]>,\n",
       " <gurobi.Var z(1, 2)[3]>,\n",
       " <gurobi.Var z(1, 2)[4]>,\n",
       " <gurobi.Var z(1, 2)[5]>,\n",
       " <gurobi.Var z(1, 2)[6]>,\n",
       " <gurobi.Var z(1, 2)[7]>,\n",
       " <gurobi.Var z(1, 2)[8]>,\n",
       " <gurobi.Var z(1, 2)[9]>,\n",
       " <gurobi.Var z(1, 2)[10]>,\n",
       " <gurobi.Var z(1, 2)[11]>,\n",
       " <gurobi.Var z(1, 2)[12]>,\n",
       " <gurobi.Var z(1, 2)[13]>,\n",
       " <gurobi.Var z(1, 2)[14]>,\n",
       " <gurobi.Var lag(1, 2)>,\n",
       " <gurobi.Var Pf(1, 2)>,\n",
       " <gurobi.Var Pb(1, 2)>,\n",
       " <gurobi.Var lambdas(1, 3)[0]>,\n",
       " <gurobi.Var lambdas(1, 3)[1]>,\n",
       " <gurobi.Var lambdas(1, 3)[2]>,\n",
       " <gurobi.Var lambdas(1, 3)[3]>,\n",
       " <gurobi.Var lambdas(1, 3)[4]>,\n",
       " <gurobi.Var lambdas(1, 3)[5]>,\n",
       " <gurobi.Var lambdas(1, 3)[6]>,\n",
       " <gurobi.Var lambdas(1, 3)[7]>,\n",
       " <gurobi.Var lambdas(1, 3)[8]>,\n",
       " <gurobi.Var lambdas(1, 3)[9]>,\n",
       " <gurobi.Var lambdas(1, 3)[10]>,\n",
       " <gurobi.Var lambdas(1, 3)[11]>,\n",
       " <gurobi.Var lambdas(1, 3)[12]>,\n",
       " <gurobi.Var lambdas(1, 3)[13]>,\n",
       " <gurobi.Var lambdas(1, 3)[14]>,\n",
       " <gurobi.Var z(1, 3)[1]>,\n",
       " <gurobi.Var z(1, 3)[2]>,\n",
       " <gurobi.Var z(1, 3)[3]>,\n",
       " <gurobi.Var z(1, 3)[4]>,\n",
       " <gurobi.Var z(1, 3)[5]>,\n",
       " <gurobi.Var z(1, 3)[6]>,\n",
       " <gurobi.Var z(1, 3)[7]>,\n",
       " <gurobi.Var z(1, 3)[8]>,\n",
       " <gurobi.Var z(1, 3)[9]>,\n",
       " <gurobi.Var z(1, 3)[10]>,\n",
       " <gurobi.Var z(1, 3)[11]>,\n",
       " <gurobi.Var z(1, 3)[12]>,\n",
       " <gurobi.Var z(1, 3)[13]>,\n",
       " <gurobi.Var z(1, 3)[14]>,\n",
       " <gurobi.Var lag(1, 3)>,\n",
       " <gurobi.Var Pf(1, 3)>,\n",
       " <gurobi.Var Pb(1, 3)>,\n",
       " <gurobi.Var lambdas(2, 3)[0]>,\n",
       " <gurobi.Var lambdas(2, 3)[1]>,\n",
       " <gurobi.Var lambdas(2, 3)[2]>,\n",
       " <gurobi.Var lambdas(2, 3)[3]>,\n",
       " <gurobi.Var lambdas(2, 3)[4]>,\n",
       " <gurobi.Var lambdas(2, 3)[5]>,\n",
       " <gurobi.Var lambdas(2, 3)[6]>,\n",
       " <gurobi.Var lambdas(2, 3)[7]>,\n",
       " <gurobi.Var lambdas(2, 3)[8]>,\n",
       " <gurobi.Var lambdas(2, 3)[9]>,\n",
       " <gurobi.Var lambdas(2, 3)[10]>,\n",
       " <gurobi.Var lambdas(2, 3)[11]>,\n",
       " <gurobi.Var lambdas(2, 3)[12]>,\n",
       " <gurobi.Var lambdas(2, 3)[13]>,\n",
       " <gurobi.Var lambdas(2, 3)[14]>,\n",
       " <gurobi.Var z(2, 3)[1]>,\n",
       " <gurobi.Var z(2, 3)[2]>,\n",
       " <gurobi.Var z(2, 3)[3]>,\n",
       " <gurobi.Var z(2, 3)[4]>,\n",
       " <gurobi.Var z(2, 3)[5]>,\n",
       " <gurobi.Var z(2, 3)[6]>,\n",
       " <gurobi.Var z(2, 3)[7]>,\n",
       " <gurobi.Var z(2, 3)[8]>,\n",
       " <gurobi.Var z(2, 3)[9]>,\n",
       " <gurobi.Var z(2, 3)[10]>,\n",
       " <gurobi.Var z(2, 3)[11]>,\n",
       " <gurobi.Var z(2, 3)[12]>,\n",
       " <gurobi.Var z(2, 3)[13]>,\n",
       " <gurobi.Var z(2, 3)[14]>,\n",
       " <gurobi.Var lag(2, 3)>,\n",
       " <gurobi.Var Pf(2, 3)>,\n",
       " <gurobi.Var Pb(2, 3)>]"
      ]
     },
     "execution_count": 12,
     "metadata": {},
     "output_type": "execute_result"
    }
   ],
   "source": [
    "cc.getVars()"
   ]
  },
  {
   "cell_type": "markdown",
   "metadata": {},
   "source": [
    "### Special Ordered Set of Variables Type 2 - SOS2\n",
    "\n",
    "\\begin{equation} \n",
    " (i,j) \\in \\{1 ,\\dots, N\\}^2, i \\neq j \\\\\n",
    " Givens^{(i,j)}: \\{(\\theta^{(i,j)}_{k=0}, P^{(i,j)}_{k=0}),\\dots, (\\theta^{(i,j)}_{(M-1)}, P^{(i,j)}_{(M-1)})\\} \\\\\n",
    " \\theta^{(i,j)} = \\sum_{k=0}^{M - 1} \\lambda_k^{(i,j)}\\theta_{k}^{(i,j)} \\\\\n",
    " P^{(i,j)} = \\sum_{k=0}^{M - 1} \\lambda_k^{(i,j)}P_{k}^{(i,j)} \\\\\n",
    " \\lambda_k^{(i,j)} \\ge 0, k = 0,...,{(M - 1)} \\\\\n",
    " 1 = \\sum^{M - 1}_{k=0} \\lambda_k^{(i,j)} \\\\\n",
    " \\{\\lambda_k^{(i,j)}\\}_{k=0}^{(M-1)} \\in \\text{SOS2}\n",
    "\\end{equation}\n",
    "\n",
    "Where **SOS2** (Special Ordered Set of type 2) is the set of sets that comply to the following criteria:\n",
    "<ol>\n",
    "    <li>At most 2 elements are positive.</li>\n",
    "    <li>In the case 2 elements in the set are positive, they must be consecutive in the ordered set.</li>\n",
    "</ol>"
   ]
  },
  {
   "cell_type": "markdown",
   "metadata": {
    "tags": []
   },
   "source": [
    "##### Modeling the SOS2 constraint in linear terms\n",
    "\n",
    "\\begin{equation} \n",
    " \\lambda_k^{(i,j)} \\in [ 0, +\\infty ], k = 0,...,{M-1} \\\\\n",
    " z_k^{(i,j)} \\in \\{0,1\\} , k = 0,...,{M-1} \\\\\n",
    " \\lambda_k^{(i,j)} \\le z_k , k = 0,...,{M-1} \\\\\n",
    " \\sum_{k=0}^{M-1} z_k \\le 2 \\\\\n",
    " z_k^{(i,j)} + z_l^{(i,j)} \\le 1, l \\in \\{k+2,...,{M-1}\\}\n",
    "\\end{equation}"
   ]
  },
  {
   "cell_type": "markdown",
   "metadata": {},
   "source": [
    "### Special Ordered Set of Variables Type 2 in Gurobi"
   ]
  },
  {
   "cell_type": "code",
   "execution_count": 13,
   "metadata": {
    "scrolled": true,
    "tags": []
   },
   "outputs": [
    {
     "name": "stdout",
     "output_type": "stream",
     "text": [
      "Set parameter LogFile to value \"sos2_log.txt\"\n",
      "[('Pg1', 7.0), ('Pg2', 0.0), ('Pg3', 4.0)]\n",
      "Power inflow at bus 1:\n",
      "<gurobi.LinExpr: 2.0 Pb(1, 2) + Pb(1, 3)>\n",
      "<gurobi.Constr R336>\n",
      "Power inflow at bus 2:\n",
      "<gurobi.LinExpr: 2.0 Pf(1, 2) + Pb(2, 3)>\n",
      "<gurobi.Constr R338>\n",
      "Power inflow at bus 3:\n",
      "<gurobi.LinExpr: Pf(1, 3) + Pf(2, 3)>\n",
      "<gurobi.Constr R340>\n"
     ]
    }
   ],
   "source": [
    "sos2 = Model()\n",
    "sos2.Params.LogFile = \"sos2_log.txt\"\n",
    "# each bus i is in a certain theta\n",
    "thetai_vars = sos2.addVars(bus_set, lb=-math.pi/2, ub=math.pi/2, vtype=GRB.CONTINUOUS, name=\"thetai\")\n",
    "\n",
    "# power generated in each bus i, constrained by values given in problem statement\n",
    "Pgi_vars = sos2.addVars(bus_set, lb=0,ub=Pgmax_dict,vtype=GRB.CONTINUOUS, name=\"Pgi\")\n",
    "sos2.update()\n",
    "print([(f\"Pg{Pgi}\",Pgi_vars[Pgi].ub) for Pgi in Pgi_vars])\n",
    "# Pgi_vars = sos2.addVars(bus_set, lb=0,vtype=GRB.CONTINUOUS, name=\"Pgi\") # This would be a relaxation\n",
    "\n",
    "# total power flow into each bus i\n",
    "Pi_vars = sos2.addVars(bus_set, vtype=GRB.CONTINUOUS, name=\"Pi\")\n",
    "\n",
    "# auxiliary variables which represents each |Pi|\n",
    "Pi_abs_vars = sos2.addVars(bus_set, vtype=GRB.CONTINUOUS, name=\"Pi_abs\") \n",
    "\n",
    "lambda_vars = gp.tupledict() # 1 value per data interval per pair ((n_points-1) * len(b_combs))\n",
    "z_vars = gp.tupledict() # 1 value per data point per pair (n_points * len(b_combs))\n",
    "lag_vars = gp.tupledict() # 1 value per pair (len(b_combs))\n",
    "Pf_vars = gp.tupledict() # 1 value per pair (len(b_combs))\n",
    "Pb_vars = gp.tupledict() # 1 value per pair (len(b_combs))\n",
    "\n",
    "data_indexes = range(n_points)\n",
    "\n",
    "for pair in b_combs:\n",
    "    # create lambdas for current pair\n",
    "    lambda_vars_ = sos2.addVars(data_indexes, lb=0.0, vtype=GRB.CONTINUOUS, name=f\"lambdas{pair}\")\n",
    "    sos2.addConstr(gp.quicksum(lambda_vars_)==1)\n",
    "    lambda_vars[pair] = lambda_vars_\n",
    "    \n",
    "    z_vars_ = sos2.addVars(data_indexes, vtype=GRB.BINARY, name=f\"z{pair}\")\n",
    "    sos2.addConstr(gp.quicksum(z_vars_)<=2)\n",
    "    z_vars[pair] = z_vars_\n",
    "        \n",
    "    for k in range(0,n_points):\n",
    "        sos2.addConstr(lambda_vars_[k]<=z_vars_[k])\n",
    "        for l in range(k+2,n_points):\n",
    "            sos2.addConstr(lambda_vars_[k]+z_vars_[l]<=1)\n",
    "\n",
    "    # create lag variable for current pair\n",
    "    lag_var = sos2.addVar(vtype=GRB.CONTINUOUS, name=f\"lag{pair}\")\n",
    "    sos2.addConstr(lag_var==(gp.quicksum([lambda_vars_[i]*theta_array[i] for i in data_indexes])), name=f\"lag{pair} calculation\")\n",
    "    lag_vars[pair] = lag_var\n",
    "    \n",
    "    # create power flow variable for current pair\n",
    "    Pf_data = Pf_dict[pair] # power flows calculated before for current pair (Pij)\n",
    "    Pf_var = sos2.addVar(vtype=GRB.CONTINUOUS, name=f\"Pf{pair}\") # Power flow variable for current pair\n",
    "    sos2.addConstr(Pf_var==(gp.quicksum([lambda_vars_[i]*Pf_data[i] for i in data_indexes])), name=f\"Pf{pair} calculation\")\n",
    "    Pf_vars[pair] = Pf_var\n",
    "    \n",
    "    # create power flow variable for current pair, reverse \n",
    "    Pb_data = Pb_dict[pair] # power flows calculated before for current pair (Pij)\n",
    "    Pb_var = sos2.addVar(vtype=GRB.CONTINUOUS, name=f\"Pb{pair}\") # Power flow variable for current pair\n",
    "    sos2.addConstr(Pb_var==(gp.quicksum([lambda_vars_[i]*Pb_data[i] for i in data_indexes])), name=f\"Pb{pair} calculation\")\n",
    "    Pb_vars[pair] = Pb_var\n",
    "    \n",
    "    # not quite necessary, but create theta for each individual bus\n",
    "    i = pair[0]\n",
    "    j = pair[1]\n",
    "    sos2.addConstr(lag_var==thetai_vars[i]-thetai_vars[j], name=f\"thetas_i=({pair})\")\n",
    "sos2.update()\n",
    "for bus in bus_set:\n",
    "    # energy conservation constraint\n",
    "    # calculate power inflow at each bus\n",
    "    print(f\"Power inflow at bus {bus}:\")\n",
    "    Pi_value = 0\n",
    "    for pair in b_combs:\n",
    "        if bus == pair[0]: # bus is i in pair (i,j), power inflow at i is Pb\n",
    "            inflow = Pb_vars[pair]\n",
    "        elif bus == pair[1]: # bus is j in pair (i,j), power inflow at i is Pf\n",
    "            inflow = Pf_vars[pair]\n",
    "        else:\n",
    "            inflow = 0\n",
    "        Pi_value += n_dict[pair] * inflow\n",
    "        \n",
    "    print(Pi_value)\n",
    "    \n",
    "    Pi_injected_constr = sos2.addConstr(Pi_vars[bus]==Pi_value)\n",
    "    \n",
    "    # en_cons_constr = sos2.addConstr(Pgi_vars[bus]==Pd_dict_low[bus]+Pi_vars[bus], f\"Energy balance {bus}\")\n",
    "    en_cons_constr = sos2.addConstr(Pgi_vars[bus]==Pd_dict_high[bus]+Pi_vars[bus], f\"Energy balance {bus}\")\n",
    "\n",
    "    abs_constr = sos2.addGenConstrAbs(Pi_abs_vars[bus], Pi_vars[bus], name=\"ABS\")\n",
    "    \n",
    "    sos2.update()\n",
    "    print(Pi_injected_constr)\n",
    "\n",
    "    \n",
    "sos2.setObjective(gp.quicksum(Pi_abs_vars))\n",
    "sos2.update()\n",
    "\n",
    "# sos2.display()\n"
   ]
  },
  {
   "cell_type": "code",
   "execution_count": 14,
   "metadata": {},
   "outputs": [
    {
     "name": "stdout",
     "output_type": "stream",
     "text": [
      "Gurobi Optimizer version 9.5.1 build v9.5.1rc2 (win64)\n",
      "Thread count: 2 physical cores, 4 logical processors, using up to 4 threads\n",
      "Optimize a model with 342 rows, 111 columns and 885 nonzeros\n",
      "Model fingerprint: 0x36dcab36\n",
      "Model has 3 general constraints\n",
      "Variable types: 66 continuous, 45 integer (45 binary)\n",
      "Coefficient statistics:\n",
      "  Matrix range     [4e-02, 3e+00]\n",
      "  Objective range  [1e+00, 1e+00]\n",
      "  Bounds range     [1e+00, 7e+00]\n",
      "  RHS range        [1e+00, 5e+00]\n",
      "Presolve removed 0 rows and 3 columns\n",
      "Presolve time: 0.00s\n",
      "\n",
      "Explored 0 nodes (0 simplex iterations) in 0.02 seconds (0.00 work units)\n",
      "Thread count was 1 (of 4 available processors)\n",
      "\n",
      "Solution count 0\n",
      "\n",
      "Model is infeasible\n",
      "Best objective -, best bound -, gap -\n"
     ]
    }
   ],
   "source": [
    "sos2.optimize()"
   ]
  },
  {
   "cell_type": "markdown",
   "metadata": {},
   "source": [
    "### Using Gurobi built-in PWL constraints"
   ]
  },
  {
   "cell_type": "code",
   "execution_count": 15,
   "metadata": {
    "scrolled": true,
    "tags": []
   },
   "outputs": [
    {
     "name": "stdout",
     "output_type": "stream",
     "text": [
      "Set parameter LogFile to value \"m_log.txt\"\n",
      "[('Pg1', 7.0), ('Pg2', 0.0), ('Pg3', 4.0)]\n",
      "Power inflow at bus 1:\n",
      "<gurobi.LinExpr: 2.0 Pb(1, 2) + Pb(1, 3)>\n",
      "<gurobi.Constr R3>\n",
      "Power inflow at bus 2:\n",
      "<gurobi.LinExpr: 2.0 Pf(1, 2) + Pb(2, 3)>\n",
      "<gurobi.Constr R5>\n",
      "Power inflow at bus 3:\n",
      "<gurobi.LinExpr: Pf(1, 3) + Pf(2, 3)>\n",
      "<gurobi.Constr R7>\n"
     ]
    }
   ],
   "source": [
    "m = Model()\n",
    "m.Params.LogFile = \"m_log.txt\"\n",
    "# each bus i is in a certain theta\n",
    "thetai_vars = m.addVars(bus_set, lb=-math.pi/2, ub=math.pi/2, vtype=GRB.CONTINUOUS, name=\"thetai\")\n",
    "\n",
    "# power generated in each bus i, constrained by values given in problem statement\n",
    "Pgi_vars = m.addVars(bus_set, lb=0,ub=Pgmax_dict,vtype=GRB.CONTINUOUS, name=\"Pgi\")\n",
    "m.update()\n",
    "print([(f\"Pg{Pgi}\",Pgi_vars[Pgi].ub) for Pgi in Pgi_vars])\n",
    "# Pgi_vars = m.addVars(bus_set, lb=0,vtype=GRB.CONTINUOUS, name=\"Pgi\") # This would be a relaxation\n",
    "\n",
    "# total power flow into each bus i\n",
    "Pi_vars = m.addVars(bus_set, vtype=GRB.CONTINUOUS, name=\"Pi\")\n",
    "\n",
    "# auxiliary variables which represents each |Pi|\n",
    "Pi_abs_vars = m.addVars(bus_set, vtype=GRB.CONTINUOUS, name=\"Pi_abs\") \n",
    "\n",
    "lambda_vars = gp.tupledict() # 1 value per data interval per pair ((n_points-1) * len(b_combs))\n",
    "z_vars = gp.tupledict() # 1 value per data point per pair (n_points * len(b_combs))\n",
    "lag_vars = gp.tupledict() # 1 value per pair (len(b_combs))\n",
    "Pf_vars = gp.tupledict() # 1 value per pair (len(b_combs))\n",
    "Pb_vars = gp.tupledict() # 1 value per pair (len(b_combs))\n",
    "\n",
    "data_indexes = range(n_points)\n",
    "pwlff = {}\n",
    "pwlfb = {}\n",
    "for pair in b_combs:\n",
    "    \n",
    "    Pf_vars[pair] = m.addVar(vtype=GRB.CONTINUOUS, name=f\"Pf{pair}\")\n",
    "    Pb_vars[pair] = m.addVar(vtype=GRB.CONTINUOUS, name=f\"Pb{pair}\")\n",
    "    lag_vars[pair] = m.addVar(vtype=GRB.CONTINUOUS, name=f\"lag{pair}\")\n",
    "    pwlff[pair] = m.addGenConstrPWL(lag_vars[pair], Pf_vars[pair], theta_array, Pf_dict[pair], f\"Pf(lag) pair {pair}\")\n",
    "    pwlfb[pair] = m.addGenConstrPWL(lag_vars[pair], Pb_vars[pair], theta_array, Pb_dict[pair], f\"Pb(lag) pair {pair}\")\n",
    "\n",
    "    # not quite necessary, but create theta for each individual bus\n",
    "    i = pair[0]\n",
    "    j = pair[1]\n",
    "    m.addConstr(lag_vars[pair]==thetai_vars[i]-thetai_vars[j], name=f\"thetas_i=({pair})\")\n",
    "m.update()\n",
    "for bus in bus_set:\n",
    "    # energy conservation constraint\n",
    "    # calculate power inflow at each bus\n",
    "    print(f\"Power inflow at bus {bus}:\")\n",
    "    Pi_value = 0\n",
    "    for pair in b_combs:\n",
    "        if bus == pair[0]: # bus is i in pair (i,j), power inflow at i is Pb\n",
    "            inflow = Pb_vars[pair]\n",
    "        elif bus == pair[1]: # bus is j in pair (i,j), power inflow at i is Pf\n",
    "            inflow = Pf_vars[pair]\n",
    "        else:\n",
    "            inflow = 0\n",
    "        Pi_value += n_dict[pair] * inflow\n",
    "        \n",
    "    print(Pi_value)\n",
    "    \n",
    "    Pi_injected_constr = m.addConstr(Pi_vars[bus]==Pi_value)\n",
    "    \n",
    "    # en_cons_constr = m.addConstr(Pgi_vars[bus]==Pd_dict_low[bus]+Pi_vars[bus], f\"Energy balance {bus}\")\n",
    "    en_cons_constr = m.addConstr(Pgi_vars[bus]==Pd_dict_high[bus]+Pi_vars[bus], f\"Energy balance {bus}\")\n",
    "\n",
    "    abs_constr = m.addGenConstrAbs(Pi_abs_vars[bus], Pi_vars[bus], name=\"ABS\")\n",
    "    \n",
    "    m.update()\n",
    "    print(Pi_injected_constr)\n",
    "\n",
    "    \n",
    "m.setObjective(gp.quicksum(Pi_abs_vars))\n",
    "m.update()\n",
    "\n",
    "# m.display()\n"
   ]
  },
  {
   "cell_type": "code",
   "execution_count": 16,
   "metadata": {},
   "outputs": [
    {
     "name": "stdout",
     "output_type": "stream",
     "text": [
      "Gurobi Optimizer version 9.5.1 build v9.5.1rc2 (win64)\n",
      "Thread count: 2 physical cores, 4 logical processors, using up to 4 threads\n",
      "Optimize a model with 9 rows, 21 columns and 24 nonzeros\n",
      "Model fingerprint: 0x70ab9279\n",
      "Model has 9 general constraints\n",
      "Variable types: 21 continuous, 0 integer (0 binary)\n",
      "Coefficient statistics:\n",
      "  Matrix range     [1e+00, 2e+00]\n",
      "  Objective range  [1e+00, 1e+00]\n",
      "  Bounds range     [2e+00, 7e+00]\n",
      "  RHS range        [1e+00, 5e+00]\n",
      "  PWLCon x range   [0e+00, 3e+00]\n",
      "  PWLCon y range   [0e+00, 3e-01]\n",
      "Presolve removed 0 rows and 3 columns\n",
      "Presolve time: 0.00s\n",
      "\n",
      "Explored 0 nodes (0 simplex iterations) in 0.02 seconds (0.00 work units)\n",
      "Thread count was 1 (of 4 available processors)\n",
      "\n",
      "Solution count 0\n",
      "\n",
      "Model is infeasible\n",
      "Best objective -, best bound -, gap -\n"
     ]
    }
   ],
   "source": [
    "m.optimize()"
   ]
  },
  {
   "cell_type": "code",
   "execution_count": 17,
   "metadata": {},
   "outputs": [
    {
     "data": {
      "text/plain": [
       "[<gurobi.Var thetai[1]>,\n",
       " <gurobi.Var thetai[2]>,\n",
       " <gurobi.Var thetai[3]>,\n",
       " <gurobi.Var Pgi[1]>,\n",
       " <gurobi.Var Pgi[2]>,\n",
       " <gurobi.Var Pgi[3]>,\n",
       " <gurobi.Var Pi[1]>,\n",
       " <gurobi.Var Pi[2]>,\n",
       " <gurobi.Var Pi[3]>,\n",
       " <gurobi.Var Pi_abs[1]>,\n",
       " <gurobi.Var Pi_abs[2]>,\n",
       " <gurobi.Var Pi_abs[3]>,\n",
       " <gurobi.Var Pf(1, 2)>,\n",
       " <gurobi.Var Pb(1, 2)>,\n",
       " <gurobi.Var lag(1, 2)>,\n",
       " <gurobi.Var Pf(1, 3)>,\n",
       " <gurobi.Var Pb(1, 3)>,\n",
       " <gurobi.Var lag(1, 3)>,\n",
       " <gurobi.Var Pf(2, 3)>,\n",
       " <gurobi.Var Pb(2, 3)>,\n",
       " <gurobi.Var lag(2, 3)>]"
      ]
     },
     "execution_count": 17,
     "metadata": {},
     "output_type": "execute_result"
    }
   ],
   "source": [
    "m.getVars()"
   ]
  },
  {
   "cell_type": "code",
   "execution_count": null,
   "metadata": {},
   "outputs": [],
   "source": []
  },
  {
   "cell_type": "code",
   "execution_count": null,
   "metadata": {},
   "outputs": [],
   "source": []
  }
 ],
 "metadata": {
  "kernelspec": {
   "display_name": "Python 3 (ipykernel)",
   "language": "python",
   "name": "python3"
  },
  "language_info": {
   "codemirror_mode": {
    "name": "ipython",
    "version": 3
   },
   "file_extension": ".py",
   "mimetype": "text/x-python",
   "name": "python",
   "nbconvert_exporter": "python",
   "pygments_lexer": "ipython3",
   "version": "3.8.12"
  }
 },
 "nbformat": 4,
 "nbformat_minor": 4
}
