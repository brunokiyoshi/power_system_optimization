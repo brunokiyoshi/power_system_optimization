{
 "cells": [
  {
   "cell_type": "markdown",
   "metadata": {},
   "source": [
    "# Optimization of a power system\n",
    "Student: Bruno Kiyoshi Ynumaru; Prof. Eduardo Camponogara"
   ]
  },
  {
   "cell_type": "markdown",
   "metadata": {},
   "source": [
    "In this exercise, you will have the opportunity to approximate a nonlinear problem\n",
    "as a MILP by means of piecewise-linear models. The power system has 3 buses\n",
    "as depicted in Fig. 1. Buses 1 and 3 have generation units, whereas bus 2 is a\n",
    "power consumer. This Figures also gives the maximum power generation ($\\bar{P_{gi}}$) and\n",
    "the power consumption ($\\bar{P_{di}}$) of each bus i, under low and high demand. The\n",
    "properties of the transmission lines appear in Table 1, in pu using a 100 MVA basis,\n",
    "are indicated in the Figure. The parameters are the resistance $r_{i,j}$ , the reactance $x_{i,j}$\n",
    "and the number of lines installed between buses i and j."
   ]
  },
  {
   "cell_type": "markdown",
   "metadata": {},
   "source": [
    "\n",
    "<img src=\"Figure1.jpg\" alt=\"Drawing\" style=\"width: 400px; margin-left:auto; margin-right:auto\"/>"
   ]
  },
  {
   "cell_type": "markdown",
   "metadata": {},
   "source": [
    "|Line| $r_{i,j}$ (pu)| $x_{i,j}$ (pu)| ni,j|\n",
    "|----|---------------|---------------|----------|\n",
    "|1-2 | 0.030         |0.23           |2         |\n",
    "|1-3 |0.035          | 0.25          |1         |\n",
    "|2-3 | 0.025         | 0.20          |1         |"
   ]
  },
  {
   "cell_type": "markdown",
   "metadata": {},
   "source": [
    "A simplified model is adopted for the transmission network, in which:  \n",
    "•Lines and transformers are represented by their series impedances in per unit:  \n",
    "\\begin{equation}\n",
    "z_{i,j} = r_{i,j} + jx_{i,j} \\space \\space (1)\n",
    "\\end{equation}\n",
    "where ri;j is the resistance and xi;j is the reactance of line (i; j).  \n",
    "• Voltage magnitudes are fixed at 1:0 pu.  \n",
    "• Reactive power balance is supposed to be satisfied.  \n",
    "With these assumptions, active power flows are expressed as  \n",
    "\\begin{equation}\n",
    "p.flow \\space i \\rightarrow j : P_{i,j} = g_{i,j}-(g_{i,j} cos\\theta_{i,j} + b_{i,j} sin \\theta_{i,j}) \\space (2a)\\\\\n",
    "p.flow \\space j \\rightarrow i : P_{j,i} = g_{i,j}-(g_{i,j} cos\\theta_{i,j} - b_{i,j} sin \\theta_{i,j}) \\space (2b) \n",
    "\\end{equation}  \n",
    "where $gij$ and $b_{ij}$ are, respectively, the series conductance and series susceptance of\n",
    "line (i, j), $\\theta_{i,j} = (\\theta_i - \\theta_j)$ and $\\theta_i$ is the voltage angle of bus i.  \n",
    "Conductance and susceptance are calculated as follows  \n",
    "\\begin{equation}\n",
    "g_{i,j}=\\frac{r_{i,j}}{(r^2_{i,j}+x^2_{i,j})}\\\\\n",
    "b_{i,j}=-\\frac{x_{i,j}}{(r^2_{i,j}+x^2_{i,j})}\n",
    "\\end{equation}  \n",
    "The power injected into bus i is defined as  \n",
    "\\begin{equation}\n",
    "P_i=\\sum_{j \\in N_i} n_{i,j}P_{i,j} = \\sum_{j \\in N_i}n_{i,j}[g_{i,j}-(g_{i,j}cos\\theta_{i,j}+b_{i,j}sin\\theta_{i,j}])] \\space (3)\n",
    "\\end{equation}  \n",
    "where $N_i$ is the set of neighboring buses of bus i. To ensure energy conservation, the\n",
    "following equations must also be satisfied  \n",
    "\\begin{equation}\n",
    "Pg_i=\\bar{Pd_i}+P_i \\space (4)\n",
    "\\end{equation}  \n",
    "Aiming to minimize the power loss in transmission, the power-flow optimization problem could be solved:  \n",
    "\n",
    "\\begin{align}\n",
    "min &\\sum_{i \\in N} |P_i| \\\\\n",
    "s.t:& Pg_i=\\bar{Pd_i}+P_i, \\\\\n",
    "&P_i=\\sum_{j \\in N_i} n_{i,j}P_{i,j}, \\\\\n",
    "&0 \\le Pg_i \\le \\bar{Pg_i}, \\\\\n",
    "&\\theta_i \\in [\\frac{-\\pi}{2},\\frac{\\pi}{2}, i \\in N],  \\\\\n",
    "&P_{i,j} = g_{i,j}-(g_{i,j} cos\\theta_{i,j} + b_{i,j} sin \\theta_{i,j}),\\\\\n",
    "&\\theta_{i,j}=\\theta_i-\\theta_j, \\\\\n",
    "&\\theta_{i,j} \\in [-\\pi,\\pi], i \\in N, j \\in N_i\n",
    "\\end{align}\n",
    "\n",
    "Tasks:  \n",
    "• Reformulate the power-flow optimization problem in MILP using the following piecewise-linear models: CC and SOS2.  \n",
    "• Implement the models in AMPL, choosing a suitable number of breakpoints to induce a good approximation of the power-flow equations. You may plot the piecewise linear approximations for sin $\\theta_{i,j}$ and cos $\\theta_{i,j}$ in order to show the degree of approximation.  \n",
    "• Solve the problem for the low and high power demand cases. Present and illustrate the solutions.  "
   ]
  },
  {
   "cell_type": "markdown",
   "metadata": {},
   "source": [
    "## Optimization problem solution using Gurobi"
   ]
  },
  {
   "cell_type": "code",
   "execution_count": 1,
   "metadata": {},
   "outputs": [],
   "source": [
    "import gurobipy as gp\n",
    "from gurobipy import GRB, Model\n",
    "import pandas as pd\n",
    "import matplotlib.pyplot as plt\n",
    "import numpy as np\n",
    "import math\n",
    "from itertools import combinations\n",
    "pd.set_option(\"display.max_columns\", None)\n",
    "pd.set_option('display.max_rows', None)"
   ]
  },
  {
   "cell_type": "markdown",
   "metadata": {
    "tags": []
   },
   "source": [
    "Extract points from non-linear functions:"
   ]
  },
  {
   "cell_type": "code",
   "execution_count": 2,
   "metadata": {
    "tags": []
   },
   "outputs": [
    {
     "data": {
      "image/png": "[encoded data removed]",
      "text/plain": [
       "<Figure size 432x288 with 1 Axes>"
      ]
     },
     "metadata": {
      "needs_background": "light"
     },
     "output_type": "display_data"
    }
   ],
   "source": [
    "n_points = 15\n",
    "theta_array = np.linspace(-math.pi,math.pi, n_points)\n",
    "cos_array = np.cos(theta_array)\n",
    "sin_array = np.sin(theta_array)\n",
    "plt.figure()\n",
    "plt.scatter(theta_array,cos_array)\n",
    "plt.scatter(theta_array,sin_array)\n",
    "plt.plot(theta_array,cos_array,label=\"f(x)=cos(x)\")\n",
    "plt.plot(theta_array,sin_array,label=\"f(x)=sin(x)\")\n",
    "plt.title(\"sin and cos functions\")\n",
    "plt.xlabel(r'$\\theta$')\n",
    "plt.ylabel(r'$f(\\theta)$')\n",
    "plt.legend()\n",
    "plt.grid(which=\"both\")\n",
    "plt.show()"
   ]
  },
  {
   "cell_type": "code",
   "execution_count": 3,
   "metadata": {},
   "outputs": [
    {
     "name": "stdout",
     "output_type": "stream",
     "text": [
      "[1, 2, 3]\n"
     ]
    }
   ],
   "source": [
    "n_busses = 3\n",
    "bus_set = [i for i in range(1,n_busses + 1)]\n",
    "print(bus_set)"
   ]
  },
  {
   "cell_type": "code",
   "execution_count": 4,
   "metadata": {},
   "outputs": [],
   "source": [
    "Pd_dict_high = {bus_set[0]:1.0,bus_set[1]:3.5,bus_set[2]:5.0}\n",
    "Pd_dict_low = {bus_set[0]:1.0,bus_set[1]:2.0,bus_set[2]:3.0}\n",
    "\n",
    "Pgmax_dict = {bus_set[0]:7.0,bus_set[1]:0.0,bus_set[2]:4.0}"
   ]
  },
  {
   "cell_type": "code",
   "execution_count": 5,
   "metadata": {},
   "outputs": [
    {
     "name": "stdout",
     "output_type": "stream",
     "text": [
      "[(1, 2), (1, 3), (2, 3)]\n"
     ]
    }
   ],
   "source": [
    "b_combs = combinations(bus_set,2) # from now on 'b' stands for bus/busses\n",
    "b_combs = list(b_combs)\n",
    "print(b_combs)"
   ]
  },
  {
   "cell_type": "code",
   "execution_count": 6,
   "metadata": {},
   "outputs": [
    {
     "name": "stdout",
     "output_type": "stream",
     "text": [
      "r_dict={(1, 2): 0.3, (1, 3): 0.35, (2, 3): 0.35}\n",
      "x_dict={(1, 2): 0.23, (1, 3): 0.25, (2, 3): 0.2}\n",
      "n_dict={(1, 2): 2, (1, 3): 1, (2, 3): 1}\n",
      "z_dict={(1, 2): (0.3+0.23j), (1, 3): (0.35+0.25j), (2, 3): (0.35+0.2j)}\n"
     ]
    }
   ],
   "source": [
    "r_dict = {b_combs[0]:0.30, b_combs[1]:0.35, b_combs[2]:0.35}\n",
    "x_dict = {b_combs[0]:0.23, b_combs[1]:0.25, b_combs[2]:0.20}\n",
    "n_dict = {b_combs[0]:2, b_combs[1]:1, b_combs[2]:1}\n",
    "print(f'r_dict={r_dict}')\n",
    "print(f'x_dict={x_dict}')\n",
    "print(f'n_dict={n_dict}')\n",
    "z = lambda r,x : r + x*1j\n",
    "z_dict = {bc:z(r_dict[bc], x_dict[bc]) for bc in b_combs}\n",
    "print(f'z_dict={z_dict}')"
   ]
  },
  {
   "cell_type": "code",
   "execution_count": 7,
   "metadata": {},
   "outputs": [
    {
     "name": "stdout",
     "output_type": "stream",
     "text": [
      "g_dict={(1, 2): 2.099370188943317, (1, 3): 1.8918918918918919, (2, 3): 2.153846153846154}\n",
      "b_dict={(1, 2): 1.609517144856543, (1, 3): 1.3513513513513513, (2, 3): 1.230769230769231}\n"
     ]
    }
   ],
   "source": [
    "g = lambda r,x: r / (r**2+x**2)\n",
    "b = lambda r,x: x / (r**2+x**2)\n",
    "\n",
    "g_dict = {bc:g(r_dict[bc], x_dict[bc]) for bc in b_combs}\n",
    "b_dict = {bc:b(r_dict[bc], x_dict[bc]) for bc in b_combs}\n",
    "print(f'g_dict={g_dict}')\n",
    "print(f'b_dict={b_dict}')"
   ]
  },
  {
   "cell_type": "code",
   "execution_count": 8,
   "metadata": {
    "scrolled": true,
    "tags": []
   },
   "outputs": [
    {
     "name": "stdout",
     "output_type": "stream",
     "text": [
      "Pf_dict={(1, 2): array([ 0.6       ,  0.67008392,  0.66686818,  0.5909897 ,  0.45747714,\n",
      "        0.2927743 ,  0.1295026 ,  0.        , -0.07008392, -0.06686818,\n",
      "        0.0090103 ,  0.14252286,  0.3072257 ,  0.4704974 ,  0.6       ]), (1, 3): array([ 0.7       ,  0.77381004,  0.7636793 ,  0.6716143 ,  0.51584965,\n",
      "        0.32723644,  0.14313183,  0.        , -0.07381004, -0.0636793 ,\n",
      "        0.0283857 ,  0.18415035,  0.37276356,  0.55686817,  0.7       ]), (2, 3): array([ 0.7       ,  0.75211585,  0.72458773,  0.62286791,  0.46710326,\n",
      "        0.28814487,  0.12143764,  0.        , -0.05211585, -0.02458773,\n",
      "        0.07713209,  0.23289674,  0.41185513,  0.57856236,  0.7       ])}\n",
      "Pb_dict={(1, 2): array([ 0.6       ,  0.4704974 ,  0.3072257 ,  0.14252286,  0.0090103 ,\n",
      "       -0.06686818, -0.07008392,  0.        ,  0.1295026 ,  0.2927743 ,\n",
      "        0.45747714,  0.5909897 ,  0.66686818,  0.67008392,  0.6       ]), (1, 3): array([ 0.7       ,  0.55686817,  0.37276356,  0.18415035,  0.0283857 ,\n",
      "       -0.0636793 , -0.07381004,  0.        ,  0.14313183,  0.32723644,\n",
      "        0.51584965,  0.6716143 ,  0.7636793 ,  0.77381004,  0.7       ]), (2, 3): array([ 0.7       ,  0.57856236,  0.41185513,  0.23289674,  0.07713209,\n",
      "       -0.02458773, -0.05211585,  0.        ,  0.12143764,  0.28814487,\n",
      "        0.46710326,  0.62286791,  0.72458773,  0.75211585,  0.7       ])}\n"
     ]
    }
   ],
   "source": [
    "# power flow (P) has different values for forwards (f) and backwards (b) directions\n",
    "Pf = lambda g,b,theta: g - (g*np.cos(theta) + b*np.sin(theta))\n",
    "Pb = lambda g,b,theta: g - (g*np.cos(theta) - b*np.sin(theta))\n",
    "\n",
    "Pf_dict = {bc:Pf(r_dict[bc], x_dict[bc], theta_array) for bc in b_combs}\n",
    "print(f'Pf_dict={Pf_dict}')\n",
    "Pb_dict = {bc:Pb(r_dict[bc], x_dict[bc], theta_array) for bc in b_combs}\n",
    "print(f'Pb_dict={Pb_dict}')"
   ]
  },
  {
   "cell_type": "code",
   "execution_count": 9,
   "metadata": {
    "scrolled": true,
    "tags": []
   },
   "outputs": [
    {
     "data": {
      "image/png": "[encoded data removed]",
      "text/plain": [
       "<Figure size 432x288 with 1 Axes>"
      ]
     },
     "metadata": {
      "needs_background": "light"
     },
     "output_type": "display_data"
    },
    {
     "data": {
      "image/png": "[encoded data removed]",
      "text/plain": [
       "<Figure size 432x288 with 1 Axes>"
      ]
     },
     "metadata": {
      "needs_background": "light"
     },
     "output_type": "display_data"
    },
    {
     "data": {
      "image/png": "[encoded data removed]",
      "text/plain": [
       "<Figure size 432x288 with 1 Axes>"
      ]
     },
     "metadata": {
      "needs_background": "light"
     },
     "output_type": "display_data"
    }
   ],
   "source": [
    "for k, bc in enumerate(b_combs):\n",
    "    \n",
    "    plt.figure()\n",
    "    plt.scatter(theta_array,Pf_dict[bc])\n",
    "    plt.scatter(theta_array,Pb_dict[bc])\n",
    "    plt.plot(theta_array,Pf_dict[bc],label=\"f(x)=Pf(x)\")\n",
    "    plt.plot(theta_array,Pb_dict[bc],label=\"f(x)=Pb(x)\")\n",
    "    plt.title(f\"Power flows between busses {bc}\")\n",
    "    plt.xlabel(fr'$\\theta{bc}$')\n",
    "    plt.ylabel(fr'$f(\\theta{bc})$')\n",
    "    plt.legend()\n",
    "    plt.grid(which=\"both\")\n",
    "    plt.show()"
   ]
  },
  {
   "cell_type": "markdown",
   "metadata": {
    "tags": []
   },
   "source": [
    "## Piecewise linear reformulations\n"
   ]
  },
  {
   "cell_type": "markdown",
   "metadata": {},
   "source": [
    "\n",
    "#### Convex-combination - CC\n",
    "\n",
    "In convex combination approximations, the dependent variable is given by a linear combination of two consecutive points from the available data:\n",
    "For a given pair of buses $(i,j)$, the CC piecewise linear reformulation is:\n",
    "\\begin{equation} \n",
    "(i,j) \\in \\{1 ,\\dots, N\\}^2, i \\neq j \\\\\n",
    "Givens^{(i,j)}: \\{(\\theta^{(i,j)}_0, P^{(i,j)}_0),\\dots, (\\theta^{(i,j)}_{(M-1)}, P^{(i,j)}_{(M-1)})\\} \\\\\n",
    "\\theta^{(i,j)} = \\sum_{k=0}^{M - 1} \\lambda_k^{(i,j)}\\theta_{k}^{(i,j)} \\\\\n",
    "P^{(i,j)} = \\sum_{k=0}^{M - 1} \\lambda_k^{(i,j)}P_{k}^{(i,j)} \\\\\n",
    "\\lambda_k^{(i,j)} \\ge 1, k = 0,...,{(M - 1)} \\\\\n",
    "1 = \\sum^{M - 1}_{k=0} \\lambda_k^{(i,j)} \\\\\n",
    "1 = \\sum^{M - 1}_{k=1}z_k^{(i,j)} \\\\\n",
    "z^{(i,j)}_k \\in \\{0,1\\}, k=1,...,{(M-1)} \\\\\n",
    "\\lambda_0^n \\le z_1^{(i,j)} \\\\\n",
    "\\lambda_{(M-1)}^{(i,j)} \\le z_{(M-1)}^{(i,j)} \\\\\n",
    "\\lambda_k^{(i,j)} \\le z_k^{(i,j)} + z_{k+1}, k=1,...,{(M-1)} \\\\\n",
    "z_k^{(i,j)} = 1\\; \\text{if} \\;P^{(i,j)} \\in [ P_{k-1}^{(i,j)}, P_{k}^{(i,j)} ]\n",
    "\\end{equation}\n",
    "Where $M$ is the number of available data points for bus pair $(i,j)$ and $N$ is the number of buses in the system.\n"
   ]
  },
  {
   "cell_type": "markdown",
   "metadata": {},
   "source": [
    "#### Special Ordered Set of Variables Type 2 - SOS2\n",
    "\n",
    "\\begin{equation} \n",
    "(i,j) \\in \\{1 ,\\dots, N\\}^2, i \\neq j \\\\\n",
    "Givens^{(i,j)}: \\{(\\theta^{(i,j)}_0, P^{(i,j)}_0),\\dots, (\\theta^{(i,j)}_{(M-1)}, P^{(i,j)}_{(M-1)})\\} \\\\\n",
    "\\theta^{(i,j)} = \\sum_{k=0}^{M - 1} \\lambda_k^{(i,j)}\\theta_{k}^{(i,j)} \\\\\n",
    "P^{(i,j)} = \\sum_{k=0}^{M - 1} \\lambda_k^{(i,j)}P_{k}^{(i,j)} \\\\\n",
    "\\lambda_k^{(i,j)} \\ge 0, k = 0,...,{(M - 1)} \\\\\n",
    "1 = \\sum^{M - 1}_{k=0} \\lambda_k^{(i,j)} \\\\\n",
    "\\{\\lambda_k^{(i,j)}\\}_{k=0}^{(M-1)} \\in \\text{SOS2}\n",
    "\\end{equation}\n",
    "\n",
    "Where **SOS2** (Special Ordered Set of type 2) is the set of sets that comply to the following criteria:\n",
    "<ol>\n",
    "    <li>At most 2 elements are positive.</li>\n",
    "    <li>In the case 2 elements in the set are positive, they must be consecutive in the ordered set.</li>\n",
    "</ol>"
   ]
  },
  {
   "cell_type": "markdown",
   "metadata": {},
   "source": [
    "##### Modeling the SOS2 constraint in linear terms\n",
    "\n",
    "\\begin{equation} \n",
    "\\lambda_k^{(i,j)} \\in [ 0, +\\infty ], k = 0,...,{M-1} \\\\\n",
    "z_k^{(i,j)} \\in \\{0,1\\} , k = 0,...,{M-1} \\\\\n",
    "\\lambda_k^{(i,j)} \\le z_k , k = 0,...,{M-1} \\\\\n",
    "\\sum_{k=0}^{M-1} z_k \\le 2 \\\\\n",
    "z_k^{(i,j)} + z_l^{(i,j)} \\le 1, (k,l) \\in \\{k+2,...,{M-1}\\}^2\n",
    "\\end{equation}"
   ]
  },
  {
   "cell_type": "markdown",
   "metadata": {},
   "source": [
    "## Modeling and solving the problem using Gurobi:"
   ]
  },
  {
   "cell_type": "markdown",
   "metadata": {},
   "source": [
    "### Convex Combination in Gurobi"
   ]
  },
  {
   "cell_type": "code",
   "execution_count": 10,
   "metadata": {
    "scrolled": true,
    "tags": []
   },
   "outputs": [
    {
     "name": "stdout",
     "output_type": "stream",
     "text": [
      "Set parameter Username\n",
      "Academic license - for non-commercial use only - expires 2022-05-20\n",
      "Set parameter LogFile to value \"cc_log.txt\"\n",
      "<gurobi.LinExpr: 2.0 Pf(1, 2) + Pf(1, 3)>\n",
      "<gurobi.LinExpr: 2.0 Pf(1, 2) + Pf(2, 3)>\n",
      "<gurobi.LinExpr: Pf(1, 3) + Pf(2, 3)>\n",
      "Minimize\n",
      "  <gurobi.LinExpr: Pi_abs[1] + Pi_abs[2] + Pi_abs[3]>\n",
      "Subject To\n",
      "R0: <gurobi.LinExpr: lambdas(1, 2)[0] + lambdas(1, 2)[1] + lambdas(1, 2)[2] +\n",
      "lambdas(1, 2)[3] + lambdas(1, 2)[4] + lambdas(1, 2)[5] + lambdas(1, 2)[6] + lambdas(1,\n",
      "2)[7] + lambdas(1, 2)[8] + lambdas(1, 2)[9] + lambdas(1, 2)[10] + lambdas(1, 2)[11] +\n",
      " lambdas(1, 2)[12] + lambdas(1, 2)[13] + lambdas(1, 2)[14]> = 1\n",
      "R1: <gurobi.LinExpr: z(1, 2)[1] + z(1, 2)[2] + z(1, 2)[3] + z(1, 2)[4] + z(1, 2)[5] +\n",
      "z(1, 2)[6] + z(1, 2)[7] + z(1, 2)[8] + z(1, 2)[9] + z(1, 2)[10] + z(1, 2)[11] + z(1,\n",
      " 2)[12] + z(1, 2)[13] + z(1, 2)[14]> = 1\n",
      "  R2: <gurobi.LinExpr: lambdas(1, 2)[0] + -1.0 z(1, 2)[1]> <= 0\n",
      "  R3: <gurobi.LinExpr: lambdas(1, 2)[14] + -1.0 z(1, 2)[14]> <= 0\n",
      "  R4: <gurobi.LinExpr: lambdas(1, 2)[1] + -1.0 z(1, 2)[1] + -1.0 z(1, 2)[2]> <= 0\n",
      "  R5: <gurobi.LinExpr: lambdas(1, 2)[2] + -1.0 z(1, 2)[2] + -1.0 z(1, 2)[3]> <= 0\n",
      "  R6: <gurobi.LinExpr: lambdas(1, 2)[3] + -1.0 z(1, 2)[3] + -1.0 z(1, 2)[4]> <= 0\n",
      "  R7: <gurobi.LinExpr: lambdas(1, 2)[4] + -1.0 z(1, 2)[4] + -1.0 z(1, 2)[5]> <= 0\n",
      "  R8: <gurobi.LinExpr: lambdas(1, 2)[5] + -1.0 z(1, 2)[5] + -1.0 z(1, 2)[6]> <= 0\n",
      "  R9: <gurobi.LinExpr: lambdas(1, 2)[6] + -1.0 z(1, 2)[6] + -1.0 z(1, 2)[7]> <= 0\n",
      "  R10: <gurobi.LinExpr: lambdas(1, 2)[7] + -1.0 z(1, 2)[7] + -1.0 z(1, 2)[8]> <= 0\n",
      "  R11: <gurobi.LinExpr: lambdas(1, 2)[8] + -1.0 z(1, 2)[8] + -1.0 z(1, 2)[9]> <= 0\n",
      "  R12: <gurobi.LinExpr: lambdas(1, 2)[9] + -1.0 z(1, 2)[9] + -1.0 z(1, 2)[10]> <= 0\n",
      "  R13: <gurobi.LinExpr: lambdas(1, 2)[10] + -1.0 z(1, 2)[10] + -1.0 z(1, 2)[11]> <= 0\n",
      "  R14: <gurobi.LinExpr: lambdas(1, 2)[11] + -1.0 z(1, 2)[11] + -1.0 z(1, 2)[12]> <= 0\n",
      "  R15: <gurobi.LinExpr: lambdas(1, 2)[12] + -1.0 z(1, 2)[12] + -1.0 z(1, 2)[13]> <= 0\n",
      "  R16: <gurobi.LinExpr: lambdas(1, 2)[13] + -1.0 z(1, 2)[13] + -1.0 z(1, 2)[14]> <= 0\n",
      "lag(1, 2) calculation: <gurobi.LinExpr: 3.141592653589793 lambdas(1, 2)[0] +\n",
      "2.6927937030769655 lambdas(1, 2)[1] + 2.243994752564138 lambdas(1, 2)[2] +\n",
      "1.7951958020513104 lambdas(1, 2)[3] + 1.3463968515384828 lambdas(1, 2)[4] +\n",
      "0.8975979010256552 lambdas(1, 2)[5] + 0.4487989505128276 lambdas(1, 2)[6] +\n",
      "-0.4487989505128276 lambdas(1, 2)[8] + -0.8975979010256552 lambdas(1, 2)[9] +\n",
      "-1.3463968515384828 lambdas(1, 2)[10] + -1.7951958020513104 lambdas(1, 2)[11] +\n",
      "-2.243994752564138 lambdas(1, 2)[12] + -2.6927937030769655 lambdas(1, 2)[13] +\n",
      " -3.141592653589793 lambdas(1, 2)[14] + lag(1, 2)> = 0\n",
      "Pf(1, 2) calculation: <gurobi.LinExpr: -0.6000000000000001 lambdas(1, 2)[0] +\n",
      "-0.670083920367764 lambdas(1, 2)[1] + -0.6668681815252668 lambdas(1, 2)[2] +\n",
      "-0.5909896999887136 lambdas(1, 2)[3] + -0.4574771396149251 lambdas(1, 2)[4] +\n",
      "-0.2927743004100268 lambdas(1, 2)[5] + -0.1295025996263126 lambdas(1, 2)[6] +\n",
      "0.07008392036776412 lambdas(1, 2)[8] + 0.06686818152526697 lambdas(1, 2)[9] +\n",
      "-0.00901030001128622 lambdas(1, 2)[10] + -0.14252286038507483 lambdas(1, 2)[11] +\n",
      "-0.30722569958997314 lambdas(1, 2)[12] + -0.47049740037368726 lambdas(1, 2)[13] +\n",
      " -0.5999999999999999 lambdas(1, 2)[14] + Pf(1, 2)> = 0\n",
      "  thetas_i=((1, 2)): <gurobi.LinExpr: -1.0 thetai[1] + thetai[2] + lag(1, 2)> = 0\n",
      "R20: <gurobi.LinExpr: lambdas(1, 3)[0] + lambdas(1, 3)[1] + lambdas(1, 3)[2] +\n",
      "lambdas(1, 3)[3] + lambdas(1, 3)[4] + lambdas(1, 3)[5] + lambdas(1, 3)[6] + lambdas(1,\n",
      "3)[7] + lambdas(1, 3)[8] + lambdas(1, 3)[9] + lambdas(1, 3)[10] + lambdas(1, 3)[11] +\n",
      " lambdas(1, 3)[12] + lambdas(1, 3)[13] + lambdas(1, 3)[14]> = 1\n",
      "R21: <gurobi.LinExpr: z(1, 3)[1] + z(1, 3)[2] + z(1, 3)[3] + z(1, 3)[4] + z(1, 3)[5] +\n",
      "z(1, 3)[6] + z(1, 3)[7] + z(1, 3)[8] + z(1, 3)[9] + z(1, 3)[10] + z(1, 3)[11] + z(1,\n",
      " 3)[12] + z(1, 3)[13] + z(1, 3)[14]> = 1\n",
      "  R22: <gurobi.LinExpr: lambdas(1, 3)[0] + -1.0 z(1, 3)[1]> <= 0\n",
      "  R23: <gurobi.LinExpr: lambdas(1, 3)[14] + -1.0 z(1, 3)[14]> <= 0\n",
      "  R24: <gurobi.LinExpr: lambdas(1, 3)[1] + -1.0 z(1, 3)[1] + -1.0 z(1, 3)[2]> <= 0\n",
      "  R25: <gurobi.LinExpr: lambdas(1, 3)[2] + -1.0 z(1, 3)[2] + -1.0 z(1, 3)[3]> <= 0\n",
      "  R26: <gurobi.LinExpr: lambdas(1, 3)[3] + -1.0 z(1, 3)[3] + -1.0 z(1, 3)[4]> <= 0\n",
      "  R27: <gurobi.LinExpr: lambdas(1, 3)[4] + -1.0 z(1, 3)[4] + -1.0 z(1, 3)[5]> <= 0\n",
      "  R28: <gurobi.LinExpr: lambdas(1, 3)[5] + -1.0 z(1, 3)[5] + -1.0 z(1, 3)[6]> <= 0\n",
      "  R29: <gurobi.LinExpr: lambdas(1, 3)[6] + -1.0 z(1, 3)[6] + -1.0 z(1, 3)[7]> <= 0\n",
      "  R30: <gurobi.LinExpr: lambdas(1, 3)[7] + -1.0 z(1, 3)[7] + -1.0 z(1, 3)[8]> <= 0\n",
      "  R31: <gurobi.LinExpr: lambdas(1, 3)[8] + -1.0 z(1, 3)[8] + -1.0 z(1, 3)[9]> <= 0\n",
      "  R32: <gurobi.LinExpr: lambdas(1, 3)[9] + -1.0 z(1, 3)[9] + -1.0 z(1, 3)[10]> <= 0\n",
      "  R33: <gurobi.LinExpr: lambdas(1, 3)[10] + -1.0 z(1, 3)[10] + -1.0 z(1, 3)[11]> <= 0\n",
      "  R34: <gurobi.LinExpr: lambdas(1, 3)[11] + -1.0 z(1, 3)[11] + -1.0 z(1, 3)[12]> <= 0\n",
      "  R35: <gurobi.LinExpr: lambdas(1, 3)[12] + -1.0 z(1, 3)[12] + -1.0 z(1, 3)[13]> <= 0\n",
      "  R36: <gurobi.LinExpr: lambdas(1, 3)[13] + -1.0 z(1, 3)[13] + -1.0 z(1, 3)[14]> <= 0\n",
      "lag(1, 3) calculation: <gurobi.LinExpr: 3.141592653589793 lambdas(1, 3)[0] +\n",
      "2.6927937030769655 lambdas(1, 3)[1] + 2.243994752564138 lambdas(1, 3)[2] +\n",
      "1.7951958020513104 lambdas(1, 3)[3] + 1.3463968515384828 lambdas(1, 3)[4] +\n",
      "0.8975979010256552 lambdas(1, 3)[5] + 0.4487989505128276 lambdas(1, 3)[6] +\n",
      "-0.4487989505128276 lambdas(1, 3)[8] + -0.8975979010256552 lambdas(1, 3)[9] +\n",
      "-1.3463968515384828 lambdas(1, 3)[10] + -1.7951958020513104 lambdas(1, 3)[11] +\n",
      "-2.243994752564138 lambdas(1, 3)[12] + -2.6927937030769655 lambdas(1, 3)[13] +\n",
      " -3.141592653589793 lambdas(1, 3)[14] + lag(1, 3)> = 0\n",
      "Pf(1, 3) calculation: <gurobi.LinExpr: -0.7 lambdas(1, 3)[0] + -0.7738100385452362\n",
      "lambdas(1, 3)[1] + -0.7636793012675642 lambdas(1, 3)[2] + -0.6716143049301659 lambdas(1,\n",
      "3)[3] + -0.5158496511607458 lambdas(1, 3)[4] + -0.3272364399664507 lambdas(1, 3)[5] +\n",
      "-0.14313183101354282 lambdas(1, 3)[6] + 0.07381003854523621 lambdas(1, 3)[8] +\n",
      "0.06367930126756421 lambdas(1, 3)[9] + -0.028385695069834016 lambdas(1, 3)[10] +\n",
      "-0.18415034883925407 lambdas(1, 3)[11] + -0.3727635600335492 lambdas(1, 3)[12] +\n",
      " -0.556868168986457 lambdas(1, 3)[13] + -0.7 lambdas(1, 3)[14] + Pf(1, 3)> = 0\n",
      "  thetas_i=((1, 3)): <gurobi.LinExpr: -1.0 thetai[1] + thetai[3] + lag(1, 3)> = 0\n",
      "R40: <gurobi.LinExpr: lambdas(2, 3)[0] + lambdas(2, 3)[1] + lambdas(2, 3)[2] +\n",
      "lambdas(2, 3)[3] + lambdas(2, 3)[4] + lambdas(2, 3)[5] + lambdas(2, 3)[6] + lambdas(2,\n",
      "3)[7] + lambdas(2, 3)[8] + lambdas(2, 3)[9] + lambdas(2, 3)[10] + lambdas(2, 3)[11] +\n",
      " lambdas(2, 3)[12] + lambdas(2, 3)[13] + lambdas(2, 3)[14]> = 1\n",
      "R41: <gurobi.LinExpr: z(2, 3)[1] + z(2, 3)[2] + z(2, 3)[3] + z(2, 3)[4] + z(2, 3)[5] +\n",
      "z(2, 3)[6] + z(2, 3)[7] + z(2, 3)[8] + z(2, 3)[9] + z(2, 3)[10] + z(2, 3)[11] + z(2,\n",
      " 3)[12] + z(2, 3)[13] + z(2, 3)[14]> = 1\n",
      "  R42: <gurobi.LinExpr: lambdas(2, 3)[0] + -1.0 z(2, 3)[1]> <= 0\n",
      "  R43: <gurobi.LinExpr: lambdas(2, 3)[14] + -1.0 z(2, 3)[14]> <= 0\n",
      "  R44: <gurobi.LinExpr: lambdas(2, 3)[1] + -1.0 z(2, 3)[1] + -1.0 z(2, 3)[2]> <= 0\n",
      "  R45: <gurobi.LinExpr: lambdas(2, 3)[2] + -1.0 z(2, 3)[2] + -1.0 z(2, 3)[3]> <= 0\n",
      "  R46: <gurobi.LinExpr: lambdas(2, 3)[3] + -1.0 z(2, 3)[3] + -1.0 z(2, 3)[4]> <= 0\n",
      "  R47: <gurobi.LinExpr: lambdas(2, 3)[4] + -1.0 z(2, 3)[4] + -1.0 z(2, 3)[5]> <= 0\n",
      "  R48: <gurobi.LinExpr: lambdas(2, 3)[5] + -1.0 z(2, 3)[5] + -1.0 z(2, 3)[6]> <= 0\n",
      "  R49: <gurobi.LinExpr: lambdas(2, 3)[6] + -1.0 z(2, 3)[6] + -1.0 z(2, 3)[7]> <= 0\n",
      "  R50: <gurobi.LinExpr: lambdas(2, 3)[7] + -1.0 z(2, 3)[7] + -1.0 z(2, 3)[8]> <= 0\n",
      "  R51: <gurobi.LinExpr: lambdas(2, 3)[8] + -1.0 z(2, 3)[8] + -1.0 z(2, 3)[9]> <= 0\n",
      "  R52: <gurobi.LinExpr: lambdas(2, 3)[9] + -1.0 z(2, 3)[9] + -1.0 z(2, 3)[10]> <= 0\n",
      "  R53: <gurobi.LinExpr: lambdas(2, 3)[10] + -1.0 z(2, 3)[10] + -1.0 z(2, 3)[11]> <= 0\n",
      "  R54: <gurobi.LinExpr: lambdas(2, 3)[11] + -1.0 z(2, 3)[11] + -1.0 z(2, 3)[12]> <= 0\n",
      "  R55: <gurobi.LinExpr: lambdas(2, 3)[12] + -1.0 z(2, 3)[12] + -1.0 z(2, 3)[13]> <= 0\n",
      "  R56: <gurobi.LinExpr: lambdas(2, 3)[13] + -1.0 z(2, 3)[13] + -1.0 z(2, 3)[14]> <= 0\n",
      "lag(2, 3) calculation: <gurobi.LinExpr: 3.141592653589793 lambdas(2, 3)[0] +\n",
      "2.6927937030769655 lambdas(2, 3)[1] + 2.243994752564138 lambdas(2, 3)[2] +\n",
      "1.7951958020513104 lambdas(2, 3)[3] + 1.3463968515384828 lambdas(2, 3)[4] +\n",
      "0.8975979010256552 lambdas(2, 3)[5] + 0.4487989505128276 lambdas(2, 3)[6] +\n",
      "-0.4487989505128276 lambdas(2, 3)[8] + -0.8975979010256552 lambdas(2, 3)[9] +\n",
      "-1.3463968515384828 lambdas(2, 3)[10] + -1.7951958020513104 lambdas(2, 3)[11] +\n",
      "-2.243994752564138 lambdas(2, 3)[12] + -2.6927937030769655 lambdas(2, 3)[13] +\n",
      " -3.141592653589793 lambdas(2, 3)[14] + lag(2, 3)> = 0\n",
      "Pf(2, 3) calculation: <gurobi.LinExpr: -0.7 lambdas(2, 3)[0] + -0.7521158515893582\n",
      "lambdas(2, 3)[1] + -0.7245877271441628 lambdas(2, 3)[2] + -0.6228679093210747 lambdas(2,\n",
      "3)[3] + -0.46710325555165466 lambdas(2, 3)[4] + -0.2881448658430492 lambdas(2, 3)[5] +\n",
      "-0.12143764405766494 lambdas(2, 3)[6] + 0.05211585158935833 lambdas(2, 3)[8] +\n",
      "0.02458772714416274 lambdas(2, 3)[9] + -0.07713209067892518 lambdas(2, 3)[10] +\n",
      "-0.23289674444834524 lambdas(2, 3)[11] + -0.4118551341569507 lambdas(2, 3)[12] +\n",
      " -0.578562355942335 lambdas(2, 3)[13] + -0.7 lambdas(2, 3)[14] + Pf(2, 3)> = 0\n",
      "  thetas_i=((2, 3)): <gurobi.LinExpr: -1.0 thetai[2] + thetai[3] + lag(2, 3)> = 0\n",
      "  R60: <gurobi.LinExpr: Pi[1] + -2.0 Pf(1, 2) + -1.0 Pf(1, 3)> = 0\n",
      "  R61: <gurobi.LinExpr: Pgi[1] + -1.0 Pi[1]> = 1\n",
      "  R62: <gurobi.LinExpr: Pi[2] + -2.0 Pf(1, 2) + -1.0 Pf(2, 3)> = 0\n",
      "  R63: <gurobi.LinExpr: Pgi[2] + -1.0 Pi[2]> = 3.5\n",
      "  R64: <gurobi.LinExpr: Pi[3] + -1.0 Pf(1, 3) + -1.0 Pf(2, 3)> = 0\n",
      "  R65: <gurobi.LinExpr: Pgi[3] + -1.0 Pi[3]> = 5\n",
      "Bounds\n",
      "  -1.5708 <= thetai[1] <= 1.5708\n",
      "  -1.5708 <= thetai[2] <= 1.5708\n",
      "  -1.5708 <= thetai[3] <= 1.5708\n",
      "  0 <= Pgi[1] <= 7\n",
      "  Pgi[2] = 0\n",
      "  0 <= Pgi[3] <= 4\n",
      "Binaries\n",
      "['z(1, 2)[1]', 'z(1, 2)[2]', 'z(1, 2)[3]', 'z(1, 2)[4]', 'z(1, 2)[5]', 'z(1, 2)[6]',\n",
      "'z(1, 2)[7]', 'z(1, 2)[8]', 'z(1, 2)[9]', 'z(1, 2)[10]', 'z(1, 2)[11]', 'z(1, 2)[12]',\n",
      "'z(1, 2)[13]', 'z(1, 2)[14]', 'z(1, 3)[1]', 'z(1, 3)[2]', 'z(1, 3)[3]', 'z(1, 3)[4]',\n",
      "'z(1, 3)[5]', 'z(1, 3)[6]', 'z(1, 3)[7]', 'z(1, 3)[8]', 'z(1, 3)[9]', 'z(1, 3)[10]',\n",
      "'z(1, 3)[11]', 'z(1, 3)[12]', 'z(1, 3)[13]', 'z(1, 3)[14]', 'z(2, 3)[1]', 'z(2, 3)[2]',\n",
      "'z(2, 3)[3]', 'z(2, 3)[4]', 'z(2, 3)[5]', 'z(2, 3)[6]', 'z(2, 3)[7]', 'z(2, 3)[8]',\n",
      " 'z(2, 3)[9]', 'z(2, 3)[10]', 'z(2, 3)[11]', 'z(2, 3)[12]', 'z(2, 3)[13]', 'z(2, 3)[14]']\n"
     ]
    }
   ],
   "source": [
    "cc = Model()\n",
    "cc.Params.LogFile = \"cc_log.txt\"\n",
    "# each bus i is in a certain theta\n",
    "thetai_vars = cc.addVars(bus_set, lb=-math.pi/2, ub=math.pi/2, vtype=GRB.CONTINUOUS, name=\"thetai\")\n",
    "# power generated in each bus i, constrained by values given in problem statement\n",
    "Pgi_vars = cc.addVars(bus_set, lb=0,ub=Pgmax_dict,vtype=GRB.CONTINUOUS, name=\"Pgi\")\n",
    "\n",
    "# total power flow into each bus i\n",
    "Pi_vars = cc.addVars(bus_set, vtype=GRB.CONTINUOUS, name=\"Pi\")\n",
    "\n",
    "# auxiliary variables which represents each |Pi|\n",
    "Pi_abs_vars = cc.addVars(bus_set, vtype=GRB.CONTINUOUS, name=\"Pi_abs\") \n",
    "\n",
    "lambda_vars = gp.tupledict() # 1 value per data interval per pair ((n_points-1) * len(b_combs))\n",
    "z_vars = gp.tupledict() # 1 value per data point per pair (n_points * len(b_combs))\n",
    "lag_vars = gp.tupledict() # 1 value per pair (len(b_combs))\n",
    "Pf_vars = gp.tupledict() # 1 value per pair (len(b_combs))\n",
    "data_indexes = range(n_points)\n",
    "\n",
    "for pair in b_combs:\n",
    "    # create lambdas for current pair\n",
    "    lambda_vars_ = cc.addVars(data_indexes, lb=0.0, vtype=GRB.CONTINUOUS, name=f\"lambdas{pair}\")\n",
    "    cc.addConstr(gp.quicksum(lambda_vars_)==1)\n",
    "    lambda_vars[pair] = lambda_vars_\n",
    "    \n",
    "    # z variables indicate in which piece of the piecewise linear function the decision variable is\n",
    "    # create z variables for current pair\n",
    "    z_vars_ = cc.addVars(data_indexes[1:], vtype=GRB.BINARY, name=f\"z{pair}\") # note that first index is removed\n",
    "    cc.addConstr(gp.quicksum(z_vars_)==1)\n",
    "    z_vars[pair] = z_vars_\n",
    "    \n",
    "    cc.addConstr(lambda_vars_[0]<=z_vars_[1]) # ensure first lambda =0 if decision variable outside of first piece\n",
    "    cc.addConstr(lambda_vars_[n_points-1]<=z_vars_[n_points-1]) # ensure last lambda =0 if decision variable outside of last piece\n",
    "    \n",
    "    for i in range(1,n_points-1):\n",
    "        cc.addConstr(lambda_vars_[i]<=z_vars_[i]+z_vars_[i+1]) # ensure lambda=0 if decision variable not in any of the neighboring pieces\n",
    "    \n",
    "    # create lag variable for current pair\n",
    "    lag_var = cc.addVar(vtype=GRB.CONTINUOUS, name=f\"lag{pair}\")\n",
    "    cc.addConstr(lag_var==(gp.quicksum([lambda_vars_[i]*theta_array[i] for i in data_indexes])), name=f\"lag{pair} calculation\")\n",
    "    lag_vars[pair] = lag_var\n",
    "    \n",
    "    # create power flow variable for current pair\n",
    "    Pf_data = Pf_dict[pair] # power flows calculated before for current pair (Pij)\n",
    "    Pf_var = cc.addVar(vtype=GRB.CONTINUOUS, name=f\"Pf{pair}\") # Power flow variable for current pair\n",
    "    cc.addConstr(Pf_var==(gp.quicksum([lambda_vars_[i]*Pf_data[i] for i in data_indexes])), name=f\"Pf{pair} calculation\")\n",
    "    Pf_vars[pair] = Pf_var\n",
    "    \n",
    "    # not quite necessary, but create theta for each individual bus\n",
    "    i = pair[0]\n",
    "    j = pair[1]\n",
    "    cc.addConstr(lag_var==thetai_vars[i]-thetai_vars[j], name=f\"thetas_i=({pair})\")\n",
    "    \n",
    "for bus in bus_set:\n",
    "    # energy conservation constraint\n",
    "    Pi_value = 0\n",
    "    for pair in b_combs:\n",
    "        if bus in pair:\n",
    "            cc.update()\n",
    "            Pi_value += n_dict[pair] * Pf_vars[pair]\n",
    "    print(Pi_value)\n",
    "    cc.addConstr(Pi_vars[bus]==Pi_value)\n",
    "    cc.addConstr(Pgi_vars[bus]==Pd_dict_high[bus]+Pi_vars[bus])\n",
    "    cc.addGenConstrAbs(Pi_abs_vars[bus], Pi_vars[bus], name=\"ABS\")\n",
    "    \n",
    "    \n",
    "cc.setObjective(gp.quicksum(Pi_abs_vars))\n",
    "cc.update()\n",
    "\n",
    "cc.display()\n"
   ]
  },
  {
   "cell_type": "code",
   "execution_count": 11,
   "metadata": {
    "scrolled": true,
    "tags": []
   },
   "outputs": [
    {
     "name": "stdout",
     "output_type": "stream",
     "text": [
      "Gurobi Optimizer version 9.5.1 build v9.5.1rc2 (win64)\n",
      "Thread count: 2 physical cores, 4 logical processors, using up to 4 threads\n",
      "Optimize a model with 66 rows, 105 columns and 330 nonzeros\n",
      "Model fingerprint: 0x30c766dc\n",
      "Model has 3 general constraints\n",
      "Variable types: 63 continuous, 42 integer (42 binary)\n",
      "Coefficient statistics:\n",
      "  Matrix range     [9e-03, 3e+00]\n",
      "  Objective range  [1e+00, 1e+00]\n",
      "  Bounds range     [1e+00, 7e+00]\n",
      "  RHS range        [1e+00, 5e+00]\n",
      "Presolve removed 0 rows and 3 columns\n",
      "Presolve time: 0.00s\n",
      "\n",
      "Explored 0 nodes (0 simplex iterations) in 0.01 seconds (0.00 work units)\n",
      "Thread count was 1 (of 4 available processors)\n",
      "\n",
      "Solution count 0\n",
      "\n",
      "Model is infeasible\n",
      "Best objective -, best bound -, gap -\n"
     ]
    }
   ],
   "source": [
    "cc.optimize()"
   ]
  },
  {
   "cell_type": "markdown",
   "metadata": {},
   "source": [
    "### Special Ordered Set of Variables Type 2 in Gurobi"
   ]
  },
  {
   "cell_type": "code",
   "execution_count": 12,
   "metadata": {
    "scrolled": true,
    "tags": []
   },
   "outputs": [
    {
     "name": "stdout",
     "output_type": "stream",
     "text": [
      "Set parameter LogFile to value \"sos2_log.txt\"\n",
      "<gurobi.LinExpr: 2.0 Pf(1, 2) + Pf(1, 3)>\n",
      "<gurobi.LinExpr: 2.0 Pf(1, 2) + Pf(2, 3)>\n",
      "<gurobi.LinExpr: Pf(1, 3) + Pf(2, 3)>\n",
      "Minimize\n",
      "  <gurobi.LinExpr: Pi_abs[1] + Pi_abs[2] + Pi_abs[3]>\n",
      "Subject To\n",
      "R0: <gurobi.LinExpr: lambdas(1, 2)[0] + lambdas(1, 2)[1] + lambdas(1, 2)[2] +\n",
      "lambdas(1, 2)[3] + lambdas(1, 2)[4] + lambdas(1, 2)[5] + lambdas(1, 2)[6] + lambdas(1,\n",
      "2)[7] + lambdas(1, 2)[8] + lambdas(1, 2)[9] + lambdas(1, 2)[10] + lambdas(1, 2)[11] +\n",
      " lambdas(1, 2)[12] + lambdas(1, 2)[13] + lambdas(1, 2)[14]> = 1\n",
      "R1: <gurobi.LinExpr: z(1, 2)[1] + z(1, 2)[2] + z(1, 2)[3] + z(1, 2)[4] + z(1, 2)[5] +\n",
      "z(1, 2)[6] + z(1, 2)[7] + z(1, 2)[8] + z(1, 2)[9] + z(1, 2)[10] + z(1, 2)[11] + z(1,\n",
      " 2)[12] + z(1, 2)[13] + z(1, 2)[14]> = 1\n",
      "  R2: <gurobi.LinExpr: lambdas(1, 2)[0] + -1.0 z(1, 2)[1]> <= 0\n",
      "  R3: <gurobi.LinExpr: lambdas(1, 2)[14] + -1.0 z(1, 2)[14]> <= 0\n",
      "  R4: <gurobi.LinExpr: lambdas(1, 2)[1] + -1.0 z(1, 2)[1] + -1.0 z(1, 2)[2]> <= 0\n",
      "  R5: <gurobi.LinExpr: lambdas(1, 2)[2] + -1.0 z(1, 2)[2] + -1.0 z(1, 2)[3]> <= 0\n",
      "  R6: <gurobi.LinExpr: lambdas(1, 2)[3] + -1.0 z(1, 2)[3] + -1.0 z(1, 2)[4]> <= 0\n",
      "  R7: <gurobi.LinExpr: lambdas(1, 2)[4] + -1.0 z(1, 2)[4] + -1.0 z(1, 2)[5]> <= 0\n",
      "  R8: <gurobi.LinExpr: lambdas(1, 2)[5] + -1.0 z(1, 2)[5] + -1.0 z(1, 2)[6]> <= 0\n",
      "  R9: <gurobi.LinExpr: lambdas(1, 2)[6] + -1.0 z(1, 2)[6] + -1.0 z(1, 2)[7]> <= 0\n",
      "  R10: <gurobi.LinExpr: lambdas(1, 2)[7] + -1.0 z(1, 2)[7] + -1.0 z(1, 2)[8]> <= 0\n",
      "  R11: <gurobi.LinExpr: lambdas(1, 2)[8] + -1.0 z(1, 2)[8] + -1.0 z(1, 2)[9]> <= 0\n",
      "  R12: <gurobi.LinExpr: lambdas(1, 2)[9] + -1.0 z(1, 2)[9] + -1.0 z(1, 2)[10]> <= 0\n",
      "  R13: <gurobi.LinExpr: lambdas(1, 2)[10] + -1.0 z(1, 2)[10] + -1.0 z(1, 2)[11]> <= 0\n",
      "  R14: <gurobi.LinExpr: lambdas(1, 2)[11] + -1.0 z(1, 2)[11] + -1.0 z(1, 2)[12]> <= 0\n",
      "  R15: <gurobi.LinExpr: lambdas(1, 2)[12] + -1.0 z(1, 2)[12] + -1.0 z(1, 2)[13]> <= 0\n",
      "  R16: <gurobi.LinExpr: lambdas(1, 2)[13] + -1.0 z(1, 2)[13] + -1.0 z(1, 2)[14]> <= 0\n",
      "lag(1, 2) calculation: <gurobi.LinExpr: 3.141592653589793 lambdas(1, 2)[0] +\n",
      "2.6927937030769655 lambdas(1, 2)[1] + 2.243994752564138 lambdas(1, 2)[2] +\n",
      "1.7951958020513104 lambdas(1, 2)[3] + 1.3463968515384828 lambdas(1, 2)[4] +\n",
      "0.8975979010256552 lambdas(1, 2)[5] + 0.4487989505128276 lambdas(1, 2)[6] +\n",
      "-0.4487989505128276 lambdas(1, 2)[8] + -0.8975979010256552 lambdas(1, 2)[9] +\n",
      "-1.3463968515384828 lambdas(1, 2)[10] + -1.7951958020513104 lambdas(1, 2)[11] +\n",
      "-2.243994752564138 lambdas(1, 2)[12] + -2.6927937030769655 lambdas(1, 2)[13] +\n",
      " -3.141592653589793 lambdas(1, 2)[14] + lag(1, 2)> = 0\n",
      "Pf(1, 2) calculation: <gurobi.LinExpr: -0.6000000000000001 lambdas(1, 2)[0] +\n",
      "-0.670083920367764 lambdas(1, 2)[1] + -0.6668681815252668 lambdas(1, 2)[2] +\n",
      "-0.5909896999887136 lambdas(1, 2)[3] + -0.4574771396149251 lambdas(1, 2)[4] +\n",
      "-0.2927743004100268 lambdas(1, 2)[5] + -0.1295025996263126 lambdas(1, 2)[6] +\n",
      "0.07008392036776412 lambdas(1, 2)[8] + 0.06686818152526697 lambdas(1, 2)[9] +\n",
      "-0.00901030001128622 lambdas(1, 2)[10] + -0.14252286038507483 lambdas(1, 2)[11] +\n",
      "-0.30722569958997314 lambdas(1, 2)[12] + -0.47049740037368726 lambdas(1, 2)[13] +\n",
      " -0.5999999999999999 lambdas(1, 2)[14] + Pf(1, 2)> = 0\n",
      "  thetas_i=((1, 2)): <gurobi.LinExpr: -1.0 thetai[1] + thetai[2] + lag(1, 2)> = 0\n",
      "R20: <gurobi.LinExpr: lambdas(1, 3)[0] + lambdas(1, 3)[1] + lambdas(1, 3)[2] +\n",
      "lambdas(1, 3)[3] + lambdas(1, 3)[4] + lambdas(1, 3)[5] + lambdas(1, 3)[6] + lambdas(1,\n",
      "3)[7] + lambdas(1, 3)[8] + lambdas(1, 3)[9] + lambdas(1, 3)[10] + lambdas(1, 3)[11] +\n",
      " lambdas(1, 3)[12] + lambdas(1, 3)[13] + lambdas(1, 3)[14]> = 1\n",
      "R21: <gurobi.LinExpr: z(1, 3)[1] + z(1, 3)[2] + z(1, 3)[3] + z(1, 3)[4] + z(1, 3)[5] +\n",
      "z(1, 3)[6] + z(1, 3)[7] + z(1, 3)[8] + z(1, 3)[9] + z(1, 3)[10] + z(1, 3)[11] + z(1,\n",
      " 3)[12] + z(1, 3)[13] + z(1, 3)[14]> = 1\n",
      "  R22: <gurobi.LinExpr: lambdas(1, 3)[0] + -1.0 z(1, 3)[1]> <= 0\n",
      "  R23: <gurobi.LinExpr: lambdas(1, 3)[14] + -1.0 z(1, 3)[14]> <= 0\n",
      "  R24: <gurobi.LinExpr: lambdas(1, 3)[1] + -1.0 z(1, 3)[1] + -1.0 z(1, 3)[2]> <= 0\n",
      "  R25: <gurobi.LinExpr: lambdas(1, 3)[2] + -1.0 z(1, 3)[2] + -1.0 z(1, 3)[3]> <= 0\n",
      "  R26: <gurobi.LinExpr: lambdas(1, 3)[3] + -1.0 z(1, 3)[3] + -1.0 z(1, 3)[4]> <= 0\n",
      "  R27: <gurobi.LinExpr: lambdas(1, 3)[4] + -1.0 z(1, 3)[4] + -1.0 z(1, 3)[5]> <= 0\n",
      "  R28: <gurobi.LinExpr: lambdas(1, 3)[5] + -1.0 z(1, 3)[5] + -1.0 z(1, 3)[6]> <= 0\n",
      "  R29: <gurobi.LinExpr: lambdas(1, 3)[6] + -1.0 z(1, 3)[6] + -1.0 z(1, 3)[7]> <= 0\n",
      "  R30: <gurobi.LinExpr: lambdas(1, 3)[7] + -1.0 z(1, 3)[7] + -1.0 z(1, 3)[8]> <= 0\n",
      "  R31: <gurobi.LinExpr: lambdas(1, 3)[8] + -1.0 z(1, 3)[8] + -1.0 z(1, 3)[9]> <= 0\n",
      "  R32: <gurobi.LinExpr: lambdas(1, 3)[9] + -1.0 z(1, 3)[9] + -1.0 z(1, 3)[10]> <= 0\n",
      "  R33: <gurobi.LinExpr: lambdas(1, 3)[10] + -1.0 z(1, 3)[10] + -1.0 z(1, 3)[11]> <= 0\n",
      "  R34: <gurobi.LinExpr: lambdas(1, 3)[11] + -1.0 z(1, 3)[11] + -1.0 z(1, 3)[12]> <= 0\n",
      "  R35: <gurobi.LinExpr: lambdas(1, 3)[12] + -1.0 z(1, 3)[12] + -1.0 z(1, 3)[13]> <= 0\n",
      "  R36: <gurobi.LinExpr: lambdas(1, 3)[13] + -1.0 z(1, 3)[13] + -1.0 z(1, 3)[14]> <= 0\n",
      "lag(1, 3) calculation: <gurobi.LinExpr: 3.141592653589793 lambdas(1, 3)[0] +\n",
      "2.6927937030769655 lambdas(1, 3)[1] + 2.243994752564138 lambdas(1, 3)[2] +\n",
      "1.7951958020513104 lambdas(1, 3)[3] + 1.3463968515384828 lambdas(1, 3)[4] +\n",
      "0.8975979010256552 lambdas(1, 3)[5] + 0.4487989505128276 lambdas(1, 3)[6] +\n",
      "-0.4487989505128276 lambdas(1, 3)[8] + -0.8975979010256552 lambdas(1, 3)[9] +\n",
      "-1.3463968515384828 lambdas(1, 3)[10] + -1.7951958020513104 lambdas(1, 3)[11] +\n",
      "-2.243994752564138 lambdas(1, 3)[12] + -2.6927937030769655 lambdas(1, 3)[13] +\n",
      " -3.141592653589793 lambdas(1, 3)[14] + lag(1, 3)> = 0\n",
      "Pf(1, 3) calculation: <gurobi.LinExpr: -0.7 lambdas(1, 3)[0] + -0.7738100385452362\n",
      "lambdas(1, 3)[1] + -0.7636793012675642 lambdas(1, 3)[2] + -0.6716143049301659 lambdas(1,\n",
      "3)[3] + -0.5158496511607458 lambdas(1, 3)[4] + -0.3272364399664507 lambdas(1, 3)[5] +\n",
      "-0.14313183101354282 lambdas(1, 3)[6] + 0.07381003854523621 lambdas(1, 3)[8] +\n",
      "0.06367930126756421 lambdas(1, 3)[9] + -0.028385695069834016 lambdas(1, 3)[10] +\n",
      "-0.18415034883925407 lambdas(1, 3)[11] + -0.3727635600335492 lambdas(1, 3)[12] +\n",
      " -0.556868168986457 lambdas(1, 3)[13] + -0.7 lambdas(1, 3)[14] + Pf(1, 3)> = 0\n",
      "  thetas_i=((1, 3)): <gurobi.LinExpr: -1.0 thetai[1] + thetai[3] + lag(1, 3)> = 0\n",
      "R40: <gurobi.LinExpr: lambdas(2, 3)[0] + lambdas(2, 3)[1] + lambdas(2, 3)[2] +\n",
      "lambdas(2, 3)[3] + lambdas(2, 3)[4] + lambdas(2, 3)[5] + lambdas(2, 3)[6] + lambdas(2,\n",
      "3)[7] + lambdas(2, 3)[8] + lambdas(2, 3)[9] + lambdas(2, 3)[10] + lambdas(2, 3)[11] +\n",
      " lambdas(2, 3)[12] + lambdas(2, 3)[13] + lambdas(2, 3)[14]> = 1\n",
      "R41: <gurobi.LinExpr: z(2, 3)[1] + z(2, 3)[2] + z(2, 3)[3] + z(2, 3)[4] + z(2, 3)[5] +\n",
      "z(2, 3)[6] + z(2, 3)[7] + z(2, 3)[8] + z(2, 3)[9] + z(2, 3)[10] + z(2, 3)[11] + z(2,\n",
      " 3)[12] + z(2, 3)[13] + z(2, 3)[14]> = 1\n",
      "  R42: <gurobi.LinExpr: lambdas(2, 3)[0] + -1.0 z(2, 3)[1]> <= 0\n",
      "  R43: <gurobi.LinExpr: lambdas(2, 3)[14] + -1.0 z(2, 3)[14]> <= 0\n",
      "  R44: <gurobi.LinExpr: lambdas(2, 3)[1] + -1.0 z(2, 3)[1] + -1.0 z(2, 3)[2]> <= 0\n",
      "  R45: <gurobi.LinExpr: lambdas(2, 3)[2] + -1.0 z(2, 3)[2] + -1.0 z(2, 3)[3]> <= 0\n",
      "  R46: <gurobi.LinExpr: lambdas(2, 3)[3] + -1.0 z(2, 3)[3] + -1.0 z(2, 3)[4]> <= 0\n",
      "  R47: <gurobi.LinExpr: lambdas(2, 3)[4] + -1.0 z(2, 3)[4] + -1.0 z(2, 3)[5]> <= 0\n",
      "  R48: <gurobi.LinExpr: lambdas(2, 3)[5] + -1.0 z(2, 3)[5] + -1.0 z(2, 3)[6]> <= 0\n",
      "  R49: <gurobi.LinExpr: lambdas(2, 3)[6] + -1.0 z(2, 3)[6] + -1.0 z(2, 3)[7]> <= 0\n",
      "  R50: <gurobi.LinExpr: lambdas(2, 3)[7] + -1.0 z(2, 3)[7] + -1.0 z(2, 3)[8]> <= 0\n",
      "  R51: <gurobi.LinExpr: lambdas(2, 3)[8] + -1.0 z(2, 3)[8] + -1.0 z(2, 3)[9]> <= 0\n",
      "  R52: <gurobi.LinExpr: lambdas(2, 3)[9] + -1.0 z(2, 3)[9] + -1.0 z(2, 3)[10]> <= 0\n",
      "  R53: <gurobi.LinExpr: lambdas(2, 3)[10] + -1.0 z(2, 3)[10] + -1.0 z(2, 3)[11]> <= 0\n",
      "  R54: <gurobi.LinExpr: lambdas(2, 3)[11] + -1.0 z(2, 3)[11] + -1.0 z(2, 3)[12]> <= 0\n",
      "  R55: <gurobi.LinExpr: lambdas(2, 3)[12] + -1.0 z(2, 3)[12] + -1.0 z(2, 3)[13]> <= 0\n",
      "  R56: <gurobi.LinExpr: lambdas(2, 3)[13] + -1.0 z(2, 3)[13] + -1.0 z(2, 3)[14]> <= 0\n",
      "lag(2, 3) calculation: <gurobi.LinExpr: 3.141592653589793 lambdas(2, 3)[0] +\n",
      "2.6927937030769655 lambdas(2, 3)[1] + 2.243994752564138 lambdas(2, 3)[2] +\n",
      "1.7951958020513104 lambdas(2, 3)[3] + 1.3463968515384828 lambdas(2, 3)[4] +\n",
      "0.8975979010256552 lambdas(2, 3)[5] + 0.4487989505128276 lambdas(2, 3)[6] +\n",
      "-0.4487989505128276 lambdas(2, 3)[8] + -0.8975979010256552 lambdas(2, 3)[9] +\n",
      "-1.3463968515384828 lambdas(2, 3)[10] + -1.7951958020513104 lambdas(2, 3)[11] +\n",
      "-2.243994752564138 lambdas(2, 3)[12] + -2.6927937030769655 lambdas(2, 3)[13] +\n",
      " -3.141592653589793 lambdas(2, 3)[14] + lag(2, 3)> = 0\n",
      "Pf(2, 3) calculation: <gurobi.LinExpr: -0.7 lambdas(2, 3)[0] + -0.7521158515893582\n",
      "lambdas(2, 3)[1] + -0.7245877271441628 lambdas(2, 3)[2] + -0.6228679093210747 lambdas(2,\n",
      "3)[3] + -0.46710325555165466 lambdas(2, 3)[4] + -0.2881448658430492 lambdas(2, 3)[5] +\n",
      "-0.12143764405766494 lambdas(2, 3)[6] + 0.05211585158935833 lambdas(2, 3)[8] +\n",
      "0.02458772714416274 lambdas(2, 3)[9] + -0.07713209067892518 lambdas(2, 3)[10] +\n",
      "-0.23289674444834524 lambdas(2, 3)[11] + -0.4118551341569507 lambdas(2, 3)[12] +\n",
      " -0.578562355942335 lambdas(2, 3)[13] + -0.7 lambdas(2, 3)[14] + Pf(2, 3)> = 0\n",
      "  thetas_i=((2, 3)): <gurobi.LinExpr: -1.0 thetai[2] + thetai[3] + lag(2, 3)> = 0\n",
      "  R60: <gurobi.LinExpr: Pi[1] + -2.0 Pf(1, 2) + -1.0 Pf(1, 3)> = 0\n",
      "  R61: <gurobi.LinExpr: Pgi[1] + -1.0 Pi[1]> = 1\n",
      "  R62: <gurobi.LinExpr: Pi[2] + -2.0 Pf(1, 2) + -1.0 Pf(2, 3)> = 0\n",
      "  R63: <gurobi.LinExpr: Pgi[2] + -1.0 Pi[2]> = 3.5\n",
      "  R64: <gurobi.LinExpr: Pi[3] + -1.0 Pf(1, 3) + -1.0 Pf(2, 3)> = 0\n",
      "  R65: <gurobi.LinExpr: Pgi[3] + -1.0 Pi[3]> = 5\n",
      "Bounds\n",
      "  -1.5708 <= thetai[1] <= 1.5708\n",
      "  -1.5708 <= thetai[2] <= 1.5708\n",
      "  -1.5708 <= thetai[3] <= 1.5708\n",
      "  0 <= Pgi[1] <= 7\n",
      "  Pgi[2] = 0\n",
      "  0 <= Pgi[3] <= 4\n",
      "Binaries\n",
      "['z(1, 2)[1]', 'z(1, 2)[2]', 'z(1, 2)[3]', 'z(1, 2)[4]', 'z(1, 2)[5]', 'z(1, 2)[6]',\n",
      "'z(1, 2)[7]', 'z(1, 2)[8]', 'z(1, 2)[9]', 'z(1, 2)[10]', 'z(1, 2)[11]', 'z(1, 2)[12]',\n",
      "'z(1, 2)[13]', 'z(1, 2)[14]', 'z(1, 3)[1]', 'z(1, 3)[2]', 'z(1, 3)[3]', 'z(1, 3)[4]',\n",
      "'z(1, 3)[5]', 'z(1, 3)[6]', 'z(1, 3)[7]', 'z(1, 3)[8]', 'z(1, 3)[9]', 'z(1, 3)[10]',\n",
      "'z(1, 3)[11]', 'z(1, 3)[12]', 'z(1, 3)[13]', 'z(1, 3)[14]', 'z(2, 3)[1]', 'z(2, 3)[2]',\n",
      "'z(2, 3)[3]', 'z(2, 3)[4]', 'z(2, 3)[5]', 'z(2, 3)[6]', 'z(2, 3)[7]', 'z(2, 3)[8]',\n",
      " 'z(2, 3)[9]', 'z(2, 3)[10]', 'z(2, 3)[11]', 'z(2, 3)[12]', 'z(2, 3)[13]', 'z(2, 3)[14]']\n"
     ]
    }
   ],
   "source": [
    "sos2 = Model()\n",
    "sos2.Params.LogFile = \"sos2_log.txt\"\n",
    "# each bus i is in a certain theta\n",
    "thetai_vars = sos2.addVars(bus_set, lb=-math.pi/2, ub=math.pi/2, vtype=GRB.CONTINUOUS, name=\"thetai\")\n",
    "# power generated in each bus i, constrained by values given in problem statement\n",
    "Pgi_vars = sos2.addVars(bus_set, lb=0,ub=Pgmax_dict,vtype=GRB.CONTINUOUS, name=\"Pgi\")\n",
    "\n",
    "# total power flow into each bus i\n",
    "Pi_vars = sos2.addVars(bus_set, vtype=GRB.CONTINUOUS, name=\"Pi\")\n",
    "\n",
    "# auxiliary variables which represents each |Pi|\n",
    "Pi_abs_vars = sos2.addVars(bus_set, vtype=GRB.CONTINUOUS, name=\"Pi_abs\") \n",
    "\n",
    "lambda_vars = gp.tupledict() # 1 value per data interval per pair ((n_points-1) * len(b_combs))\n",
    "z_vars = gp.tupledict() # 1 value per data point per pair (n_points * len(b_combs))\n",
    "lag_vars = gp.tupledict() # 1 value per pair (len(b_combs))\n",
    "Pf_vars = gp.tupledict() # 1 value per pair (len(b_combs))\n",
    "data_indexes = range(n_points)\n",
    "\n",
    "for pair in b_combs:\n",
    "    # create lambdas for current pair\n",
    "    lambda_vars_ = sos2.addVars(data_indexes, lb=0.0, vtype=GRB.CONTINUOUS, name=f\"lambdas{pair}\")\n",
    "    sos2.addConstr(gp.quicksum(lambda_vars_)==1)\n",
    "    lambda_vars[pair] = lambda_vars_\n",
    "    \n",
    "    # z variables indicate in which piece of the piecewise linear function the decision variable is\n",
    "    # create z variables for current pair\n",
    "    z_vars_ = sos2.addVars(data_indexes[1:], vtype=GRB.BINARY, name=f\"z{pair}\") # note that first index is removed\n",
    "    sos2.addConstr(gp.quicksum(z_vars_)==1)\n",
    "    z_vars[pair] = z_vars_\n",
    "    \n",
    "    sos2.addConstr(lambda_vars_[0]<=z_vars_[1]) # ensure first lambda =0 if decision variable outside of first piece\n",
    "    sos2.addConstr(lambda_vars_[n_points-1]<=z_vars_[n_points-1]) # ensure last lambda =0 if decision variable outside of last piece\n",
    "    \n",
    "    for i in range(1,n_points-1):\n",
    "        sos2.addConstr(lambda_vars_[i]<=z_vars_[i]+z_vars_[i+1]) # ensure lambda=0 if decision variable not in any of the neighboring pieces\n",
    "    \n",
    "    # create lag variable for current pair\n",
    "    lag_var = sos2.addVar(vtype=GRB.CONTINUOUS, name=f\"lag{pair}\")\n",
    "    sos2.addConstr(lag_var==(gp.quicksum([lambda_vars_[i]*theta_array[i] for i in data_indexes])), name=f\"lag{pair} calculation\")\n",
    "    lag_vars[pair] = lag_var\n",
    "    \n",
    "    # create power flow variable for current pair\n",
    "    Pf_data = Pf_dict[pair] # power flows calculated before for current pair (Pij)\n",
    "    Pf_var = sos2.addVar(vtype=GRB.CONTINUOUS, name=f\"Pf{pair}\") # Power flow variable for current pair\n",
    "    sos2.addConstr(Pf_var==(gp.quicksum([lambda_vars_[i]*Pf_data[i] for i in data_indexes])), name=f\"Pf{pair} calculation\")\n",
    "    Pf_vars[pair] = Pf_var\n",
    "    \n",
    "    # not quite necessary, but create theta for each individual bus\n",
    "    i = pair[0]\n",
    "    j = pair[1]\n",
    "    sos2.addConstr(lag_var==thetai_vars[i]-thetai_vars[j], name=f\"thetas_i=({pair})\")\n",
    "    \n",
    "for bus in bus_set:\n",
    "    # energy conservation constraint\n",
    "    Pi_value = 0\n",
    "    for pair in b_combs:\n",
    "        if bus in pair:\n",
    "            sos2.update()\n",
    "            Pi_value += n_dict[pair] * Pf_vars[pair]\n",
    "    print(Pi_value)\n",
    "    sos2.addConstr(Pi_vars[bus]==Pi_value)\n",
    "    sos2.addConstr(Pgi_vars[bus]==Pd_dict_high[bus]+Pi_vars[bus])\n",
    "    sos2.addGenConstrAbs(Pi_abs_vars[bus], Pi_vars[bus], name=\"ABS\")\n",
    "    \n",
    "    \n",
    "sos2.setObjective(gp.quicksum(Pi_abs_vars))\n",
    "sos2.update()\n",
    "\n",
    "sos2.display()\n"
   ]
  },
  {
   "cell_type": "code",
   "execution_count": 13,
   "metadata": {
    "scrolled": true,
    "tags": []
   },
   "outputs": [
    {
     "name": "stdout",
     "output_type": "stream",
     "text": [
      "Gurobi Optimizer version 9.5.1 build v9.5.1rc2 (win64)\n",
      "Thread count: 2 physical cores, 4 logical processors, using up to 4 threads\n",
      "Optimize a model with 66 rows, 105 columns and 330 nonzeros\n",
      "Model fingerprint: 0x30c766dc\n",
      "Model has 3 general constraints\n",
      "Variable types: 63 continuous, 42 integer (42 binary)\n",
      "Coefficient statistics:\n",
      "  Matrix range     [9e-03, 3e+00]\n",
      "  Objective range  [1e+00, 1e+00]\n",
      "  Bounds range     [1e+00, 7e+00]\n",
      "  RHS range        [1e+00, 5e+00]\n",
      "Presolve removed 0 rows and 3 columns\n",
      "Presolve time: 0.00s\n",
      "\n",
      "Explored 0 nodes (0 simplex iterations) in 0.02 seconds (0.00 work units)\n",
      "Thread count was 1 (of 4 available processors)\n",
      "\n",
      "Solution count 0\n",
      "\n",
      "Model is infeasible\n",
      "Best objective -, best bound -, gap -\n"
     ]
    }
   ],
   "source": [
    "sos2.optimize()"
   ]
  },
  {
   "cell_type": "markdown",
   "metadata": {},
   "source": [
    "### Using Gurobi built-in PWL constraints"
   ]
  },
  {
   "cell_type": "code",
   "execution_count": 15,
   "metadata": {},
   "outputs": [
    {
     "name": "stdout",
     "output_type": "stream",
     "text": [
      "Set parameter LogFile to value \"m_log.txt\"\n",
      "<gurobi.LinExpr: 2.0 Pf(1, 2) + Pf(1, 3)>\n",
      "<gurobi.LinExpr: 2.0 Pf(1, 2) + Pf(2, 3)>\n",
      "<gurobi.LinExpr: Pf(1, 3) + Pf(2, 3)>\n",
      "Minimize\n",
      "  <gurobi.LinExpr: Pi_abs[1] + Pi_abs[2] + Pi_abs[3]>\n",
      "Subject To\n",
      "  thetas_i=((1, 2)): <gurobi.LinExpr: -1.0 thetai[1] + thetai[2] + lag(1, 2)> = 0\n",
      "  thetas_i=((1, 3)): <gurobi.LinExpr: -1.0 thetai[1] + thetai[3] + lag(1, 3)> = 0\n",
      "  thetas_i=((2, 3)): <gurobi.LinExpr: -1.0 thetai[2] + thetai[3] + lag(2, 3)> = 0\n",
      "  R3: <gurobi.LinExpr: Pi[1] + -2.0 Pf(1, 2) + -1.0 Pf(1, 3)> = 0\n",
      "  R4: <gurobi.LinExpr: Pgi[1] + -1.0 Pi[1]> = 1\n",
      "  R5: <gurobi.LinExpr: Pi[2] + -2.0 Pf(1, 2) + -1.0 Pf(2, 3)> = 0\n",
      "  R6: <gurobi.LinExpr: Pgi[2] + -1.0 Pi[2]> = 3.5\n",
      "  R7: <gurobi.LinExpr: Pi[3] + -1.0 Pf(1, 3) + -1.0 Pf(2, 3)> = 0\n",
      "  R8: <gurobi.LinExpr: Pgi[3] + -1.0 Pi[3]> = 5\n",
      "Bounds\n",
      "  -1.5708 <= thetai[1] <= 1.5708\n",
      "  -1.5708 <= thetai[2] <= 1.5708\n",
      "  -1.5708 <= thetai[3] <= 1.5708\n",
      "  0 <= Pgi[1] <= 7\n",
      "  Pgi[2] = 0\n",
      "  0 <= Pgi[3] <= 4\n"
     ]
    }
   ],
   "source": [
    "m = Model()\n",
    "m.Params.LogFile = \"m_log.txt\"\n",
    "# each bus i is in a certain theta\n",
    "thetai_vars = m.addVars(bus_set, lb=-math.pi/2, ub=math.pi/2, vtype=GRB.CONTINUOUS, name=\"thetai\")\n",
    "# power generated in each bus i, constrained by values given in problem statement\n",
    "Pgi_vars = m.addVars(bus_set, lb=0,ub=Pgmax_dict,vtype=GRB.CONTINUOUS, name=\"Pgi\")\n",
    "\n",
    "# total power flow into each bus i\n",
    "Pi_vars = m.addVars(bus_set, vtype=GRB.CONTINUOUS, name=\"Pi\")\n",
    "\n",
    "# auxiliary variables which represents each |Pi|\n",
    "Pi_abs_vars = m.addVars(bus_set, vtype=GRB.CONTINUOUS, name=\"Pi_abs\") \n",
    "\n",
    "lag_vars = gp.tupledict() # 1 value per pair (len(b_combs))\n",
    "Pf_vars = gp.tupledict() # 1 value per pair (len(b_combs))\n",
    "data_indexes = range(n_points)\n",
    "pwlf = {}\n",
    "for pair in b_combs:\n",
    "\n",
    "    # create lag variable for current pair\n",
    "    lag_var = m.addVar(vtype=GRB.CONTINUOUS, name=f\"lag{pair}\")\n",
    "    lag_vars[pair] = lag_var\n",
    "    \n",
    "    # create power flow variable for current pair\n",
    "    Pf_data = Pf_dict[pair] # power flows calculated before for current pair (Pij)\n",
    "    Pf_var = m.addVar(vtype=GRB.CONTINUOUS, name=f\"Pf{pair}\") # Power flow variable for current pair\n",
    "    Pf_vars[pair] = Pf_var\n",
    "    \n",
    "    pwlf[pair] = m.addGenConstrPWL(lag_var, Pf_var, theta_array, Pf_data, f\"P(theta) pair {pair}\")\n",
    "    \n",
    "    # not quite necessary, but create theta for each individual bus\n",
    "    i = pair[0]\n",
    "    j = pair[1]\n",
    "    m.addConstr(lag_var==thetai_vars[i]-thetai_vars[j], name=f\"thetas_i=({pair})\")\n",
    "    \n",
    "for bus in bus_set:\n",
    "    # energy conservation constraint\n",
    "    Pi_value = 0\n",
    "    for pair in b_combs:\n",
    "        if bus in pair:\n",
    "            m.update()\n",
    "            Pi_value += n_dict[pair] * Pf_vars[pair]\n",
    "    print(Pi_value)\n",
    "    m.addConstr(Pi_vars[bus]==Pi_value)\n",
    "    m.addConstr(Pgi_vars[bus]==Pd_dict_high[bus]+Pi_vars[bus])\n",
    "    m.addGenConstrAbs(Pi_abs_vars[bus], Pi_vars[bus], name=\"ABS\")\n",
    "    \n",
    "    \n",
    "m.setObjective(gp.quicksum(Pi_abs_vars))\n",
    "m.update()\n",
    "\n",
    "m.display()\n"
   ]
  },
  {
   "cell_type": "code",
   "execution_count": null,
   "metadata": {},
   "outputs": [],
   "source": []
  }
 ],
 "metadata": {
  "kernelspec": {
   "display_name": "Python 3 (ipykernel)",
   "language": "python",
   "name": "python3"
  },
  "language_info": {
   "codemirror_mode": {
    "name": "ipython",
    "version": 3
   },
   "file_extension": ".py",
   "mimetype": "text/x-python",
   "name": "python",
   "nbconvert_exporter": "python",
   "pygments_lexer": "ipython3",
   "version": "3.8.12"
  }
 },
 "nbformat": 4,
 "nbformat_minor": 4
}
